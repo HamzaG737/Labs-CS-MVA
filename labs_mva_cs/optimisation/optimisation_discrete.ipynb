{
  "nbformat": 4,
  "nbformat_minor": 0,
  "metadata": {
    "kernelspec": {
      "display_name": "Python 3",
      "language": "python",
      "name": "python3"
    },
    "language_info": {
      "codemirror_mode": {
        "name": "ipython",
        "version": 3
      },
      "file_extension": ".py",
      "mimetype": "text/x-python",
      "name": "python",
      "nbconvert_exporter": "python",
      "pygments_lexer": "ipython3",
      "version": "3.8.3"
    },
    "colab": {
      "name": "GHARBI Hamza - EZZINA Youssef - Travaux pratiques vsent .ipynb",
      "provenance": []
    }
  },
  "cells": [
    {
      "cell_type": "code",
      "metadata": {
        "id": "qO6yok5Bic8D"
      },
      "source": [
        "import numpy as np\n",
        "from scipy import optimize\n",
        "import time\n",
        "import matplotlib.pyplot as plt\n",
        "import pandas as pd\n",
        "import math\n",
        "import cvxpy as cp\n",
        "from tqdm import tqdm"
      ],
      "execution_count": null,
      "outputs": []
    },
    {
      "cell_type": "markdown",
      "metadata": {
        "id": "PUoyrp7Uic8E"
      },
      "source": [
        "## Problème primal "
      ]
    },
    {
      "cell_type": "code",
      "metadata": {
        "id": "vLXAaMBYic8F"
      },
      "source": [
        "def func_to_minimize(x):\n",
        "    n=len(x)\n",
        "    return sum([np.exp(x[i-1]) + (i/n)*x[i-1] for i in range(1,n+1)])"
      ],
      "execution_count": null,
      "outputs": []
    },
    {
      "cell_type": "code",
      "metadata": {
        "id": "1UZ3s5aAic8F"
      },
      "source": [
        "tab_N= [10,100,200,400,600]\n",
        "tab_mins_pr,tab_x_pr,tab_time_pr,tab_x_comp_pr=[],[],[],[]\n",
        "for N in tab_N : \n",
        "    A=np.array([1 for i in range(N)])\n",
        "    constr=optimize.LinearConstraint(A=A,lb=1,ub=np.inf)\n",
        "    x0=np.random.normal(0,1,N)\n",
        "    \n",
        "    t0=time.time()\n",
        "    res=optimize.minimize(func_to_minimize, x0=x0, constraints=constr, method='trust-constr', tol=1e-6)\n",
        "    t1=time.time()\n",
        "    \n",
        "    tab_mins_pr.append(res.fun)\n",
        "    tab_x_pr.append(np.linalg.norm(res.x))\n",
        "    tab_x_comp_pr.append(res.x) ## composante de x \n",
        "    tab_time_pr.append(t1-t0)\n",
        "    \n"
      ],
      "execution_count": null,
      "outputs": []
    },
    {
      "cell_type": "markdown",
      "metadata": {
        "id": "ZHLIfZioic8G"
      },
      "source": [
        "## Problème dual "
      ]
    },
    {
      "cell_type": "code",
      "metadata": {
        "id": "3CCfgYSbic8G"
      },
      "source": [
        "def lagrangien(lambda_,n) :\n",
        "    return sum([(lambda_-(i/n))+(i/n-lambda_)*np.log(lambda_-i/n) for i in range(1,n+1)]) + lambda_"
      ],
      "execution_count": null,
      "outputs": []
    },
    {
      "cell_type": "markdown",
      "metadata": {
        "id": "xf6XFf6dic8G"
      },
      "source": [
        "Dans cette cellule , on trace la courbe pour un certains nombre de points pour avoir une idée grossière sur la position du maximum."
      ]
    },
    {
      "cell_type": "code",
      "metadata": {
        "id": "bgx7fk-Mic8H",
        "outputId": "a835d5d1-1470-4a6a-c646-033ab40060f8"
      },
      "source": [
        "lambda_=np.linspace(0,10,1000)\n",
        "plt.plot(lambda_,lagrangien(lambda_,10000))"
      ],
      "execution_count": null,
      "outputs": [
        {
          "output_type": "stream",
          "text": [
            "/home/hamza/anaconda3/envs/py37/lib/python3.7/site-packages/ipykernel_launcher.py:2: RuntimeWarning: invalid value encountered in log\n",
            "  \n"
          ],
          "name": "stderr"
        },
        {
          "output_type": "execute_result",
          "data": {
            "text/plain": [
              "[<matplotlib.lines.Line2D at 0x7fcfd8a17350>]"
            ]
          },
          "metadata": {
            "tags": []
          },
          "execution_count": 5
        },
        {
          "output_type": "display_data",
          "data": {
            "image/png": "[encoded data removed]",
            "text/plain": [
              "<Figure size 432x288 with 1 Axes>"
            ]
          },
          "metadata": {
            "tags": [],
            "needs_background": "light"
          }
        }
      ]
    },
    {
      "cell_type": "code",
      "metadata": {
        "id": "incfnv9aic8I"
      },
      "source": [
        "tab_N= [10,100,200,400,600]\n",
        "tab_mins,tab_x,tab_time,tab_x_comp_duale=[],[],[],[]\n",
        "\n",
        "## Définition de la contrainte : lambda >=1\n",
        "constr=optimize.LinearConstraint(A=1,lb=1,ub=np.inf)\n",
        "\n",
        "for N in tab_N : \n",
        "\n",
        "    ## d'après le graphe ci dessus , le max est atteint pour un lambda autour de 2. Donc pour trouver x0 on \n",
        "    ## échantillone une loi normale de moyenne 2 et d'écart type 0.5\n",
        "    x0=np.random.normal(2,0.5,1)\n",
        "    t0=time.time()\n",
        "    res=optimize.minimize(lambda x: -lagrangien(x,N), x0=x0, constraints=constr, method='trust-constr', tol=1e-6)\n",
        "    t1=time.time()\n",
        "    \n",
        "    X_n=np.array([np.log(res.x-i/N) for i in range(1,N+1)])\n",
        "        \n",
        "    tab_mins.append(func_to_minimize(X_n)[0])\n",
        "    tab_x.append(np.linalg.norm(X_n))\n",
        "    tab_x_comp_duale.append(X_n)\n",
        "    tab_time.append(t1-t0)"
      ],
      "execution_count": null,
      "outputs": []
    },
    {
      "cell_type": "markdown",
      "metadata": {
        "id": "zISaubvFic8I"
      },
      "source": [
        "# Résultats "
      ]
    },
    {
      "cell_type": "markdown",
      "metadata": {
        "id": "7A3S0SVnic8I"
      },
      "source": [
        "### Problème primal "
      ]
    },
    {
      "cell_type": "code",
      "metadata": {
        "id": "92Oo_thTic8I",
        "outputId": "221c32f9-7bb7-4627-84d8-6bb5c46dfb61"
      },
      "source": [
        "pd_table=pd.DataFrame([tab_mins_pr,tab_x_pr,tab_time_pr],columns=['N=10','N=100','N=200','N=400','N=600'],\n",
        "                     index=['f_min','norm x_min','execution time (s)'])\n",
        "pd_table"
      ],
      "execution_count": null,
      "outputs": [
        {
          "output_type": "execute_result",
          "data": {
            "text/html": [
              "<div>\n",
              "<style scoped>\n",
              "    .dataframe tbody tr th:only-of-type {\n",
              "        vertical-align: middle;\n",
              "    }\n",
              "\n",
              "    .dataframe tbody tr th {\n",
              "        vertical-align: top;\n",
              "    }\n",
              "\n",
              "    .dataframe thead th {\n",
              "        text-align: right;\n",
              "    }\n",
              "</style>\n",
              "<table border=\"1\" class=\"dataframe\">\n",
              "  <thead>\n",
              "    <tr style=\"text-align: right;\">\n",
              "      <th></th>\n",
              "      <th>N=10</th>\n",
              "      <th>N=100</th>\n",
              "      <th>N=200</th>\n",
              "      <th>N=400</th>\n",
              "      <th>N=600</th>\n",
              "    </tr>\n",
              "  </thead>\n",
              "  <tbody>\n",
              "    <tr>\n",
              "      <th>f_min</th>\n",
              "      <td>11.227287</td>\n",
              "      <td>97.367947</td>\n",
              "      <td>193.178331</td>\n",
              "      <td>384.806779</td>\n",
              "      <td>576.436939</td>\n",
              "    </tr>\n",
              "    <tr>\n",
              "      <th>norm x_min</th>\n",
              "      <td>0.890750</td>\n",
              "      <td>2.908776</td>\n",
              "      <td>4.133347</td>\n",
              "      <td>5.860022</td>\n",
              "      <td>7.183111</td>\n",
              "    </tr>\n",
              "    <tr>\n",
              "      <th>execution time (s)</th>\n",
              "      <td>0.086954</td>\n",
              "      <td>1.892384</td>\n",
              "      <td>14.844751</td>\n",
              "      <td>89.464949</td>\n",
              "      <td>49.694661</td>\n",
              "    </tr>\n",
              "  </tbody>\n",
              "</table>\n",
              "</div>"
            ],
            "text/plain": [
              "                         N=10      N=100       N=200       N=400       N=600\n",
              "f_min               11.227287  97.367947  193.178331  384.806779  576.436939\n",
              "norm x_min           0.890750   2.908776    4.133347    5.860022    7.183111\n",
              "execution time (s)   0.086954   1.892384   14.844751   89.464949   49.694661"
            ]
          },
          "metadata": {
            "tags": []
          },
          "execution_count": 47
        }
      ]
    },
    {
      "cell_type": "markdown",
      "metadata": {
        "id": "O8LkViovic8J"
      },
      "source": [
        "### Problème dual "
      ]
    },
    {
      "cell_type": "code",
      "metadata": {
        "id": "SaBTJfTcic8J",
        "outputId": "b6a7a8f1-730c-4343-eda6-0efe1bd24628"
      },
      "source": [
        "## convert to table \n",
        "\n",
        "pd_table=pd.DataFrame([tab_mins,tab_x,tab_time],columns=['N=10','N=100','N=200','N=400','N=600'],\n",
        "                     index=['f_min','norm x_min','execution time (s)'])\n",
        "pd_table\n"
      ],
      "execution_count": null,
      "outputs": [
        {
          "output_type": "execute_result",
          "data": {
            "text/html": [
              "<div>\n",
              "<style scoped>\n",
              "    .dataframe tbody tr th:only-of-type {\n",
              "        vertical-align: middle;\n",
              "    }\n",
              "\n",
              "    .dataframe tbody tr th {\n",
              "        vertical-align: top;\n",
              "    }\n",
              "\n",
              "    .dataframe thead th {\n",
              "        text-align: right;\n",
              "    }\n",
              "</style>\n",
              "<table border=\"1\" class=\"dataframe\">\n",
              "  <thead>\n",
              "    <tr style=\"text-align: right;\">\n",
              "      <th></th>\n",
              "      <th>N=10</th>\n",
              "      <th>N=100</th>\n",
              "      <th>N=200</th>\n",
              "      <th>N=400</th>\n",
              "      <th>N=600</th>\n",
              "    </tr>\n",
              "  </thead>\n",
              "  <tbody>\n",
              "    <tr>\n",
              "      <th>f_min</th>\n",
              "      <td>11.227676</td>\n",
              "      <td>97.370179</td>\n",
              "      <td>193.178417</td>\n",
              "      <td>384.807228</td>\n",
              "      <td>576.436932</td>\n",
              "    </tr>\n",
              "    <tr>\n",
              "      <th>norm x_min</th>\n",
              "      <td>0.890757</td>\n",
              "      <td>2.908738</td>\n",
              "      <td>4.133347</td>\n",
              "      <td>5.860020</td>\n",
              "      <td>7.183106</td>\n",
              "    </tr>\n",
              "    <tr>\n",
              "      <th>execution time (s)</th>\n",
              "      <td>0.022780</td>\n",
              "      <td>0.025555</td>\n",
              "      <td>0.051040</td>\n",
              "      <td>0.045466</td>\n",
              "      <td>0.068177</td>\n",
              "    </tr>\n",
              "  </tbody>\n",
              "</table>\n",
              "</div>"
            ],
            "text/plain": [
              "                         N=10      N=100       N=200       N=400       N=600\n",
              "f_min               11.227676  97.370179  193.178417  384.807228  576.436932\n",
              "norm x_min           0.890757   2.908738    4.133347    5.860020    7.183106\n",
              "execution time (s)   0.022780   0.025555    0.051040    0.045466    0.068177"
            ]
          },
          "metadata": {
            "tags": []
          },
          "execution_count": 48
        }
      ]
    },
    {
      "cell_type": "markdown",
      "metadata": {
        "id": "8WWAUgF8ic8K"
      },
      "source": [
        "On retrouve les mêmes résultats pour le minimum de f pour différents N . Par contre , la restriction du problème d'optimisation à une variable a permis une résolution très rapide ( 0.045 secondes ici contre 89 secondes précédemment pour N = 400 par exemple ). Ceci est dû au fait que le problème dual est univarié , donc on résout sur $R$ alors que pour le problème primal on résout sur $R^{n}$."
      ]
    },
    {
      "cell_type": "markdown",
      "metadata": {
        "id": "NpCTiwwUic8K"
      },
      "source": [
        "## comparaison entre les x_min "
      ]
    },
    {
      "cell_type": "code",
      "metadata": {
        "id": "da0QQXueic8K",
        "outputId": "2a04d3ce-fd6b-4384-a863-b379d1f1d85b"
      },
      "source": [
        "fig, ax = plt.subplots(3, 2, figsize=(16, 5))\n",
        "fig.delaxes(ax[2,1])\n",
        "tab_axes=[[0,0],[1,0],[0,1],[1,1],[2,0]]\n",
        "\n",
        "for i,N in enumerate(tab_N) :\n",
        "    x_primal,x_dual=tab_x_comp_pr[i],tab_x_comp_duale[i]\n",
        "    \n",
        "    k,j=tab_axes[i]\n",
        "    ax[k][j].plot(range(N),x_primal,label=\"x primal\")\n",
        "    ax[k][j].plot(range(N),x_dual, label= \"x dual\")\n",
        "    ax[k][j].legend(loc=\"upper right\")\n",
        "    plt.legend()\n",
        "    ax[k][j].set_title('N={}'.format(N))\n",
        "\n",
        "fig.tight_layout()\n",
        "plt.subplots_adjust(bottom=0.1, right=0.8, top=0.9)\n",
        "plt.show()  "
      ],
      "execution_count": null,
      "outputs": [
        {
          "output_type": "stream",
          "text": [
            "No handles with labels found to put in legend.\n",
            "No handles with labels found to put in legend.\n",
            "No handles with labels found to put in legend.\n",
            "No handles with labels found to put in legend.\n"
          ],
          "name": "stderr"
        },
        {
          "output_type": "display_data",
          "data": {
            "image/png": "[encoded data removed]",
            "text/plain": [
              "<Figure size 1152x360 with 5 Axes>"
            ]
          },
          "metadata": {
            "tags": [],
            "needs_background": "light"
          }
        }
      ]
    },
    {
      "cell_type": "markdown",
      "metadata": {
        "id": "KLevOvCQic8L"
      },
      "source": [
        "$ \\forall N $, les graphes des composantes de $x_{min}$ se superposent , donc on retrouve bien les mêmes minimums. "
      ]
    },
    {
      "cell_type": "markdown",
      "metadata": {
        "id": "WrV5yuFXic8L"
      },
      "source": [
        "## 2 - Optimisation discrète "
      ]
    },
    {
      "cell_type": "code",
      "metadata": {
        "id": "9toFHWwLic8L"
      },
      "source": [
        "## Ici changer le path pour lire le csv.\n",
        "casiers_df=pd.read_csv('/home/hamza/PositionCasiers.txt', sep='\\t')\n",
        "objets_df=pd.read_csv('/home/hamza/PositionObjets.txt', sep='\\t')"
      ],
      "execution_count": null,
      "outputs": []
    },
    {
      "cell_type": "markdown",
      "metadata": {
        "id": "xRCoP0qNic8L"
      },
      "source": [
        "## Solve "
      ]
    },
    {
      "cell_type": "code",
      "metadata": {
        "id": "flhCh-SMic8L"
      },
      "source": [
        "def func_to_minimize(x,casiers_df,objets_df) :\n",
        "    n=len(casiers_df)\n",
        "    s=0\n",
        "    for i in range(n):\n",
        "        for j in range(n): \n",
        "            s+=x[i][j]*np.linalg.norm(casiers_df.loc[i].values-objets_df.loc[j].values)\n",
        "    return s\n",
        "\n",
        "    "
      ],
      "execution_count": null,
      "outputs": []
    },
    {
      "cell_type": "code",
      "metadata": {
        "id": "lcekOlMAic8M",
        "outputId": "9b042693-876a-4fb2-a24a-fc613299b75f"
      },
      "source": [
        "\n",
        "n=len(casiers_df)\n",
        "x = cp.Variable((n,n),boolean=True)\n",
        "\n",
        "objective = cp.Minimize(func_to_minimize(x,casiers_df,objets_df) )\n",
        "\n",
        "\n",
        "constraints1 = [cp.sum(x[:,j])==1 for j in range(n)]\n",
        "constraints2 = [cp.sum(x[i,:])==1 for i in range(n)]\n",
        "constraints_all_2=constraints1+constraints2\n",
        "prob = cp.Problem(objective,constraints_all_2)\n",
        "\n",
        "result = prob.solve(verbose=False,solver='ECOS_BB')\n",
        "\n",
        "print('La distance optimale est ',prob.value)\n",
        "print(' x minimal est ',np.round(x.value, 1))"
      ],
      "execution_count": null,
      "outputs": [
        {
          "output_type": "stream",
          "text": [
            "La distance optimale est  15.377627810052122\n",
            " x minimal est  [[-0. -0.  0. -0.  0.  0.  0. -0.  0. -0.  1.  0.  0.  0. -0.]\n",
            " [-0. -0.  0. -0.  0.  0.  0.  0.  0. -0.  0.  1.  0.  0. -0.]\n",
            " [-0.  0.  1. -0.  0.  0.  0.  0.  0. -0.  0.  0.  0.  0. -0.]\n",
            " [-0. -0.  0. -0.  0.  0.  0. -0.  0. -0.  0.  0.  0.  1. -0.]\n",
            " [-0.  0.  0.  0.  0.  0.  0.  0.  0.  0.  0.  0.  1.  0.  0.]\n",
            " [ 0.  0.  0.  0.  0.  0.  1.  0.  0.  0.  0.  0.  0.  0.  0.]\n",
            " [ 0.  0.  0.  0.  0.  0.  0.  0.  1.  0.  0.  0.  0.  0.  0.]\n",
            " [ 0.  0.  0.  0.  0.  1.  0.  0.  0.  0.  0.  0.  0.  0.  0.]\n",
            " [ 0.  0.  0.  0.  1.  0.  0.  0.  0.  0.  0.  0.  0.  0.  0.]\n",
            " [ 0.  1.  0.  0.  0.  0.  0.  0.  0.  0.  0.  0.  0.  0.  0.]\n",
            " [ 0.  0.  0.  0.  0.  0.  0.  0.  0.  1.  0.  0.  0. -0.  0.]\n",
            " [ 0.  0.  0.  0.  0.  0.  0.  1.  0.  0.  0.  0.  0. -0.  0.]\n",
            " [ 0.  0.  0.  1.  0.  0.  0.  0.  0.  0.  0.  0.  0. -0.  0.]\n",
            " [ 0.  0.  0.  0.  0.  0.  0.  0.  0.  0.  0.  0.  0. -0.  1.]\n",
            " [ 1.  0. -0.  0.  0.  0.  0.  0.  0.  0. -0. -0.  0. -0.  0.]]\n"
          ],
          "name": "stdout"
        }
      ]
    },
    {
      "cell_type": "code",
      "metadata": {
        "id": "PFOG2cYIic8M",
        "outputId": "7da8ea44-9b58-4255-a86b-d96150ab7da6"
      },
      "source": [
        "## Représentation graphique\n",
        "\n",
        "plt.figure(figsize=(8,8))\n",
        "row_ix = np.where(np.round(x.value, 1) == 1.)\n",
        "plt.scatter(row_ix[0]+1,row_ix[1]+1)\n",
        "plt.xticks(list(range(1,n+1)))\n",
        "plt.yticks(list(range(1,n+1)))\n",
        "\n",
        "plt.grid(True)\n",
        "plt.xlabel('Numéro de boîte')\n",
        "plt.ylabel(\"Numéro d'objet\")\n",
        "plt.title(\"Représentation graphique du positionnement d'objets dans les boites\")\n",
        "plt.show()"
      ],
      "execution_count": null,
      "outputs": [
        {
          "output_type": "display_data",
          "data": {
            "image/png": "[encoded data removed]",
            "text/plain": [
              "<Figure size 576x576 with 1 Axes>"
            ]
          },
          "metadata": {
            "tags": [],
            "needs_background": "light"
          }
        }
      ]
    },
    {
      "cell_type": "markdown",
      "metadata": {
        "id": "ucsXnLx1ic8N"
      },
      "source": [
        "## Question 3 "
      ]
    },
    {
      "cell_type": "code",
      "metadata": {
        "id": "H5KCGb7Cic8N",
        "outputId": "84f17550-d62f-4ef1-a592-8fa8afa3d82f"
      },
      "source": [
        "constr3=[x[i,1]==x[i-1,0] for i in range(1,n) ]\n",
        "constraints_all_3=constraints_all_2+constr3\n",
        "prob = cp.Problem(objective,constraints_all_3)\n",
        "\n",
        "result = prob.solve(verbose=False,solver='ECOS_BB')\n",
        "\n",
        "print('La distance optimale est ',prob.value)\n",
        "print(' x minimal est ',np.round(x.value, 1))"
      ],
      "execution_count": null,
      "outputs": [
        {
          "output_type": "stream",
          "text": [
            "La distance optimale est  15.565123298218959\n",
            " x minimal est  [[-0.  0.  0. -0.  0.  0.  0. -0.  0. -0.  1.  0.  0.  0. -0.]\n",
            " [-0. -0.  0. -0.  0.  0.  0.  0.  0. -0.  0.  1.  0.  0. -0.]\n",
            " [-0. -0.  1. -0.  0.  0.  0.  0.  0. -0.  0.  0.  0.  0. -0.]\n",
            " [-0. -0.  0. -0.  0.  0.  0. -0.  0. -0.  0.  0.  1.  0. -0.]\n",
            " [ 0. -0.  0.  0.  0.  0.  0.  0.  0.  0.  0.  0.  0.  1.  0.]\n",
            " [ 0.  0.  0.  0.  0.  0.  1.  0.  0.  0.  0.  0.  0.  0.  0.]\n",
            " [ 0.  0.  0.  0.  0.  0.  0.  0.  1.  0.  0.  0.  0.  0.  0.]\n",
            " [ 0.  0.  0.  0.  0.  1.  0.  0.  0.  0.  0.  0.  0.  0.  0.]\n",
            " [ 0.  0.  0.  0.  1.  0.  0.  0.  0.  0.  0.  0.  0.  0.  0.]\n",
            " [ 0.  0.  0.  0.  0.  0.  0.  0.  0.  1.  0.  0.  0.  0.  0.]\n",
            " [ 1.  0.  0.  0.  0.  0.  0.  0.  0.  0.  0.  0. -0.  0.  0.]\n",
            " [ 0.  1.  0.  0.  0.  0.  0.  0.  0.  0.  0.  0. -0.  0.  0.]\n",
            " [ 0.  0.  0.  0.  0.  0.  0.  1.  0.  0.  0.  0. -0.  0.  0.]\n",
            " [ 0.  0.  0.  1.  0.  0.  0.  0.  0.  0.  0.  0. -0.  0.  0.]\n",
            " [ 0.  0. -0.  0.  0.  0.  0.  0.  0.  0. -0. -0. -0.  0.  1.]]\n"
          ],
          "name": "stdout"
        }
      ]
    },
    {
      "cell_type": "code",
      "metadata": {
        "id": "S6MpHohdic8N",
        "outputId": "9e9a5a0d-8548-428e-dc50-47c0d3aeed7f"
      },
      "source": [
        "plt.figure(figsize=(8,8))\n",
        "row_ix = np.where(np.round(x.value, 1) == 1.)\n",
        "plt.scatter(row_ix[0]+1,row_ix[1]+1)\n",
        "plt.xticks(list(range(1,n+1)))\n",
        "plt.yticks(list(range(1,n+1)))\n",
        "\n",
        "plt.grid(True)\n",
        "plt.xlabel('Numéro de boîte')\n",
        "plt.ylabel(\"Numéro d'objet\")\n",
        "plt.title(\"Représentation graphique du positionnement d'objets dans les boites\")\n",
        "plt.show()"
      ],
      "execution_count": null,
      "outputs": [
        {
          "output_type": "display_data",
          "data": {
            "image/png": "[encoded data removed]",
            "text/plain": [
              "<Figure size 576x576 with 1 Axes>"
            ]
          },
          "metadata": {
            "tags": [],
            "needs_background": "light"
          }
        }
      ]
    },
    {
      "cell_type": "markdown",
      "metadata": {
        "id": "rxGo3wp8ic8O"
      },
      "source": [
        "## Question 4"
      ]
    },
    {
      "cell_type": "code",
      "metadata": {
        "id": "Jx6NHR-nic8O",
        "outputId": "b044358d-ae8b-4746-826e-8c51408754e1"
      },
      "source": [
        "constr4=[x[i,2]+sum([x[k,3] for k in range(i+1,n)])<=1 for i in range(n)]\n",
        "constraints_all_4=constraints_all_3+constr4\n",
        "prob = cp.Problem(objective,constraints_all_4)\n",
        "\n",
        "result = prob.solve(verbose=False,solver='ECOS_BB')\n",
        "\n",
        "print('La distance optimale est ',prob.value)\n",
        "print(' x minimal est ',np.round(x.value, 1))"
      ],
      "execution_count": null,
      "outputs": [
        {
          "output_type": "stream",
          "text": [
            "La distance optimale est  16.20439594722419\n",
            " x minimal est  [[-0.  0.  0.  0.  0.  0.  0.  0.  0. -0.  1.  0.  0.  0. -0.]\n",
            " [-0. -0.  0.  0.  0.  0.  0.  0.  0.  0.  0.  1.  0.  0. -0.]\n",
            " [-0. -0.  0. -0. -0. -0.  1. -0. -0. -0.  0.  0. -0. -0. -0.]\n",
            " [-0. -0.  0. -0. -0. -0. -0. -0. -0. -0.  0.  0.  1. -0. -0.]\n",
            " [-0. -0.  0. -0. -0. -0. -0. -0. -0. -0.  0.  0. -0.  1. -0.]\n",
            " [-0. -0.  0. -0.  0. -0. -0. -0.  1. -0.  0.  0. -0. -0. -0.]\n",
            " [-0. -0.  0. -0.  0.  1. -0.  0. -0. -0.  0.  0. -0. -0. -0.]\n",
            " [ 0. -0.  0. -0.  1. -0.  0.  0. -0.  0.  0.  0.  0.  0.  0.]\n",
            " [ 0.  0.  0. -0.  0.  0.  0.  1.  0.  0.  0.  0.  0.  0.  0.]\n",
            " [ 0.  0.  0. -0.  0.  0.  0.  0.  0.  1.  0.  0.  0.  0.  0.]\n",
            " [ 1.  0.  0. -0.  0. -0. -0.  0. -0.  0. -0. -0. -0. -0.  0.]\n",
            " [ 0.  1.  0. -0.  0. -0. -0.  0. -0.  0. -0. -0. -0. -0.  0.]\n",
            " [ 0.  0.  0. -0.  0.  0.  0.  0.  0.  0.  0.  0. -0.  0.  1.]\n",
            " [ 0.  0.  0.  1.  0. -0. -0.  0. -0.  0. -0. -0. -0. -0.  0.]\n",
            " [ 0.  0.  1. -0.  0. -0. -0.  0. -0.  0.  0.  0. -0. -0.  0.]]\n"
          ],
          "name": "stdout"
        },
        {
          "output_type": "stream",
          "text": [
            "/home/hamza/anaconda3/envs/py37/lib/python3.7/site-packages/cvxpy/problems/problem.py:1061: UserWarning: Solution may be inaccurate. Try another solver, adjusting the solver settings, or solve with verbose=True for more information.\n",
            "  \"Solution may be inaccurate. Try another solver, \"\n"
          ],
          "name": "stderr"
        }
      ]
    },
    {
      "cell_type": "code",
      "metadata": {
        "id": "UpzizoTBic8O",
        "outputId": "b50f1806-ea3f-4d50-fc01-2387296cb591"
      },
      "source": [
        "plt.figure(figsize=(8,8))\n",
        "row_ix = np.where(np.round(x.value, 1) == 1.)\n",
        "plt.scatter(row_ix[0]+1,row_ix[1]+1)\n",
        "plt.xticks(list(range(1,n+1)))\n",
        "plt.yticks(list(range(1,n+1)))\n",
        "\n",
        "plt.grid(True)\n",
        "plt.xlabel('Numéro de boîte')\n",
        "plt.ylabel(\"Numéro d'objet\")\n",
        "plt.title(\"Représentation graphique du positionnement d'objets dans les boites\")\n",
        "plt.show()"
      ],
      "execution_count": null,
      "outputs": [
        {
          "output_type": "display_data",
          "data": {
            "image/png": "[encoded data removed]",
            "text/plain": [
              "<Figure size 576x576 with 1 Axes>"
            ]
          },
          "metadata": {
            "tags": [],
            "needs_background": "light"
          }
        }
      ]
    },
    {
      "cell_type": "markdown",
      "metadata": {
        "id": "Z1_IMzYjic8O"
      },
      "source": [
        "## Question 5"
      ]
    },
    {
      "cell_type": "code",
      "metadata": {
        "id": "6LkboD5xic8P",
        "outputId": "c7722b32-e8ac-4547-803f-62e62c1c45d8"
      },
      "source": [
        "constr5=[x[i,6]+sum([x[k,8] for k in range(i-2)])+sum([x[k,8] for k in range(i+2,n)])<=1 for i in range(n)]\n",
        "constraints_all_5=constraints_all_4+constr5\n",
        "prob = cp.Problem(objective,constraints_all_5)\n",
        "\n",
        "result = prob.solve(verbose=False,solver='ECOS_BB')\n",
        "\n",
        "print('La distance optimale est ',prob.value)\n",
        "print(' x minimal est ',np.round(x.value, 1))"
      ],
      "execution_count": null,
      "outputs": [
        {
          "output_type": "stream",
          "text": [
            "La distance optimale est  15.90546202154168\n",
            " x minimal est  [[-0.  0.  0.  0.  0.  0. -0.  0.  0. -0.  1.  0.  0.  0. -0.]\n",
            " [-0. -0.  0.  0.  0.  0.  0.  0.  0. -0.  0.  1.  0.  0. -0.]\n",
            " [-0. -0. -0.  0. -0. -0. -0. -0.  0. -0.  0.  0.  1.  0. -0.]\n",
            " [-0. -0.  0.  0.  0.  0.  0.  0.  0.  0.  0.  0. -0.  1. -0.]\n",
            " [-0. -0. -0.  0.  0. -0.  1. -0.  0. -0.  0.  0. -0.  0. -0.]\n",
            " [-0. -0.  0.  0.  0.  0. -0.  0.  1.  0.  0.  0.  0.  0.  0.]\n",
            " [-0. -0. -0.  0.  0.  1. -0.  0. -0.  0.  0.  0. -0.  0. -0.]\n",
            " [-0. -0.  0.  1.  0. -0.  0.  0. -0.  0.  0.  0.  0.  0.  0.]\n",
            " [ 0. -0.  1.  0.  0. -0. -0. -0. -0.  0.  0.  0. -0.  0. -0.]\n",
            " [ 0.  0.  0.  0.  1.  0.  0.  0.  0.  0.  0.  0.  0.  0.  0.]\n",
            " [-0.  0.  0.  0.  0.  0. -0.  0.  0.  1.  0.  0.  0.  0.  0.]\n",
            " [ 1. -0. -0. -0.  0. -0. -0.  0. -0.  0. -0. -0. -0.  0.  0.]\n",
            " [ 0.  1. -0. -0.  0. -0. -0.  0.  0.  0. -0. -0. -0. -0.  0.]\n",
            " [ 0.  0. -0. -0.  0. -0. -0.  1.  0.  0.  0.  0. -0.  0.  0.]\n",
            " [ 0.  0. -0.  0.  0. -0. -0.  0. -0.  0.  0.  0. -0.  0.  1.]]\n"
          ],
          "name": "stdout"
        }
      ]
    },
    {
      "cell_type": "code",
      "metadata": {
        "id": "faq0jDlCic8P",
        "outputId": "9fcd60a6-86cc-4335-d79a-33ea19570e49"
      },
      "source": [
        "plt.figure(figsize=(8,8))\n",
        "row_ix = np.where(np.round(x.value, 1) == 1.)\n",
        "plt.scatter(row_ix[0]+1,row_ix[1]+1)\n",
        "plt.xticks(list(range(1,n+1)))\n",
        "plt.yticks(list(range(1,n+1)))\n",
        "\n",
        "plt.grid(True)\n",
        "plt.xlabel('Numéro de boîte')\n",
        "plt.ylabel(\"Numéro d'objet\")\n",
        "plt.title(\"Représentation graphique du positionnement d'objets dans les boites\")\n",
        "plt.show()"
      ],
      "execution_count": null,
      "outputs": [
        {
          "output_type": "display_data",
          "data": {
            "image/png": "[encoded data removed]",
            "text/plain": [
              "<Figure size 576x576 with 1 Axes>"
            ]
          },
          "metadata": {
            "tags": [],
            "needs_background": "light"
          }
        }
      ]
    },
    {
      "cell_type": "markdown",
      "metadata": {
        "id": "UJDESew5ic8P"
      },
      "source": [
        "## Question 6\n",
        "\n",
        "Afin de vérifier que la solution est unique, on ajoute la contrainte que $x \\neq x_{0}$ avec $x_{0}$ la solution qu'on a trouvé précédemment. \n",
        "\n"
      ]
    },
    {
      "cell_type": "markdown",
      "metadata": {
        "id": "1GkKrFWVic8P"
      },
      "source": [
        "# Partie 2.2 "
      ]
    },
    {
      "cell_type": "code",
      "metadata": {
        "id": "ofsW-oc6ic8Q"
      },
      "source": [
        "## Ouvrir fichier \n",
        "text_file = open(\"/home/hamza/ProbaInterception.txt\", \"r\")\n",
        "lines = text_file.read().split('\\n')\n",
        "prob_intercept = np.array([ line.split() for line in lines if len(line)!=0 ])\n",
        "prob_intercept = prob_intercept.astype(float)\n",
        "## On remplace les NaN par des 1 pour que la minimisation fonctionne\n",
        "where_are_NaNs = np.isnan(prob_intercept)\n",
        "prob_intercept[where_are_NaNs] = 1\n",
        "\n",
        "\n",
        "n=len(prob_intercept)\n",
        "agents_a_atteindre=list(range(1,n))\n",
        "agents_start=[0]\n",
        "list_prob=[]\n",
        "list_sommet=[]\n",
        "\n",
        "while len(agents_a_atteindre)>0 :\n",
        "    A=prob_intercept[agents_start]\n",
        "    i,j=np.unravel_index(A.argmin(), A.shape)\n",
        "    i=agents_start[i]\n",
        "    list_sommet.append([i,j])\n",
        "    agents_start.append(j)\n",
        "    list_prob.append(A.min())\n",
        "    for i in agents_start :\n",
        "        prob_intercept[i,j]=1\n",
        "        prob_intercept[j,i]=1\n",
        "    agents_a_atteindre.remove(j)\n",
        "    \n",
        "    "
      ],
      "execution_count": null,
      "outputs": []
    },
    {
      "cell_type": "markdown",
      "metadata": {
        "id": "pDipKq1Aic8Q"
      },
      "source": [
        "Maintenant qu'on a le chemin du message, on va calculer la probabilité d'interception. \n",
        "Pour ceci on calcule la probabilité de non interception, exprimée comme le produit des probabilité de non interception individuelles , de l'individu i qui transmet le message à celui qui le reçoit. Ainsi: \n",
        "$$p_{nonintercept} =  \\prod_{i=1}^{p}(1 - p_{intercept}(r_{i}|e_{i}))$$\n",
        "avec p le nombre d'itérations totales, $r_{i}$ celui qui reçoit le message à l'itération i et $e_{i}$ celui qui l'envoie.\n",
        "On déduit la probabilité d'interception comme : \n",
        " $$p_{intercept}=1-p_{nonintercept}$$"
      ]
    },
    {
      "cell_type": "code",
      "metadata": {
        "id": "40VJJnzHic8Q",
        "outputId": "4c3809ab-9b1e-4d82-a029-ec807c4ca36b"
      },
      "source": [
        "prob_not_intercept = np.prod([1 - prob for prob in list_prob])\n",
        "prob_intercept = 1 - prob_not_intercept\n",
        "\n",
        "print(\"Probabilité totale d'interception : \", prob_intercept)\n",
        "print(\"Cheminement du message \",list_sommet)"
      ],
      "execution_count": null,
      "outputs": [
        {
          "output_type": "stream",
          "text": [
            "Probabilité totale d'interception :  0.5809187658378594\n",
            "Cheminement du message  [[0, 11], [0, 5], [5, 13], [13, 10], [5, 14], [13, 2], [2, 6], [10, 8], [8, 3], [3, 1], [3, 7], [2, 4], [4, 9], [4, 12]]\n"
          ],
          "name": "stdout"
        }
      ]
    },
    {
      "cell_type": "markdown",
      "metadata": {
        "id": "2THTpGeCic8Q"
      },
      "source": [
        "### Représentation graphique "
      ]
    },
    {
      "cell_type": "code",
      "metadata": {
        "id": "sZzrbKb2ic8Q",
        "outputId": "1aa21b7c-3e52-4f0b-9965-1906f199608b"
      },
      "source": [
        "plt.figure(figsize=(8,8))\n",
        "\n",
        "array=np.array([[1 if [i,j] in list_sommet else 0 for i in range(n)  ] for j in range(n)])\n",
        "row_ix = np.where(array == 1)\n",
        "plt.scatter(row_ix[1]+1,row_ix[0]+1)\n",
        "plt.xticks(list(range(1,n+1)))\n",
        "plt.yticks(list(range(1,n+1)))\n",
        "\n",
        "plt.grid(True)\n",
        "plt.xlabel('Message transmis de ')\n",
        "plt.ylabel('Message transmis à ')\n",
        "plt.title('Représentation graphique de la transmission des messages')\n",
        "plt.show()"
      ],
      "execution_count": null,
      "outputs": [
        {
          "output_type": "display_data",
          "data": {
            "image/png": "[encoded data removed]",
            "text/plain": [
              "<Figure size 576x576 with 1 Axes>"
            ]
          },
          "metadata": {
            "tags": [],
            "needs_background": "light"
          }
        }
      ]
    },
    {
      "cell_type": "markdown",
      "metadata": {
        "id": "bWpyJBocic8Q"
      },
      "source": [
        "# Exercice 2.3 "
      ]
    },
    {
      "cell_type": "code",
      "metadata": {
        "id": "ELIn7Kmdic8R"
      },
      "source": [
        "## Changer le path \n",
        "text_file = open(\"/home/hamza/donnees_engin.txt\", \"r\")\n",
        "tab_n_engins = [line.split() for line in text_file.readlines()][0]\n",
        "tab_n_engins=[int(float(string)) for string in tab_n_engins ]"
      ],
      "execution_count": null,
      "outputs": []
    },
    {
      "cell_type": "code",
      "metadata": {
        "id": "rBc8WV8Zic8R"
      },
      "source": [
        "def func_to_minimize(x,n_iter) :\n",
        "    \"\"\"\n",
        "    Fonction à minimiser.\n",
        "    \"\"\"\n",
        "    s=0\n",
        "    for i in range(1,n_iter):\n",
        "        to_buy=1000  * x[0,i]\n",
        "        to_end=1200* x[1,i]\n",
        "        to_loc=200 * (x[2,i]-x[0,i])\n",
        "        s+= to_buy + to_loc + to_end\n",
        "    return s"
      ],
      "execution_count": null,
      "outputs": []
    },
    {
      "cell_type": "code",
      "metadata": {
        "id": "UsCBkWldic8R"
      },
      "source": [
        "n_iter = len(tab_n_engins)\n",
        "\n",
        "x = cp.Variable((3,n_iter),integer=True)\n",
        "\n",
        "objective = cp.Minimize(func_to_minimize(x,n_iter) )\n",
        "\n",
        "\n",
        "## définir le dernier élement de chaque itération comme le nombre d'engins à l'itération i \n",
        "constraints0 = [x[2,i]==x[2,i-1]+x[0,i]-x[1,i] for i in range(1,n_iter)]\n",
        "\n",
        "# Le nombre d'engins à l'itération i doit être supérieur ou égal au nombre nécessaire\n",
        "constraints1 = [x[2,i]>=tab_n_engins[i] for i in range(n_iter)]\n",
        "\n",
        "## On initialise \n",
        "constraints2 = [x[:,0]==[tab_n_engins[0],0,tab_n_engins[0]]]\n",
        "\n",
        "# tous les xi doivent être positifs\n",
        "constraints3=  [x[k,j]>=0 for k in range(3) for j in range(n_iter)]\n",
        "\n",
        "# le nombre d'engins à la fin doit être égal au nombre nécessaire final \n",
        "constr_end = [x[2,-1]==tab_n_engins[-1]]\n",
        "\n",
        "constraints  = constraints0+constraints1+constraints2+constraints3+constr_end\n",
        "prob = cp.Problem(objective,constraints)\n",
        "result = prob.solve(verbose=False,solver='ECOS_BB')\n",
        "\n"
      ],
      "execution_count": null,
      "outputs": []
    },
    {
      "cell_type": "markdown",
      "metadata": {
        "id": "ZbtxN5Ihic8R"
      },
      "source": [
        "### Résultats "
      ]
    },
    {
      "cell_type": "code",
      "metadata": {
        "id": "Tp0AqqUiic8R",
        "outputId": "d0245255-5c0e-48ae-8dc3-b4d507e1cb57"
      },
      "source": [
        "from prettytable import PrettyTable\n",
        "\n",
        "\n",
        "x_result= np.round(x.value,1)\n",
        "## calcul cout\n",
        "cout_total = [0]\n",
        "for i in range(len(tab_n_engins)) :\n",
        "    cout_achat = 1000 * int(x_result[0,i])\n",
        "    cout_location = 200 * (int(x_result[2,i])- int(x_result[0,i]))\n",
        "    cout_vente = 1200 * int(x_result[1,i])\n",
        "    cout_total.append(cout_total[-1]+cout_achat + cout_vente + cout_location) \n",
        "cout_total.pop(0)\n",
        "\n",
        "table_cout = PrettyTable()\n",
        "\n",
        "table_cout.add_column(\"Iteration \",range(1,n_iter+1))\n",
        "table_cout.add_column(\"Achat\",x_result[0,:].astype(np.int32))\n",
        "table_cout.add_column(\"Vente\",x_result[1,:].astype(np.int32))\n",
        "table_cout.add_column(\"Nombre d'engins à cette itération\",x_result[2,:].astype(np.int32))\n",
        "table_cout.add_column(\"Coût cumulatif\",cout_total)\n",
        "table_cout.add_row([100,0,129,0,cout_total[-1]+129*1200])\n",
        "print(table_cout)"
      ],
      "execution_count": null,
      "outputs": [
        {
          "output_type": "stream",
          "text": [
            "+------------+-------+-------+-----------------------------------+----------------+\n",
            "| Iteration  | Achat | Vente | Nombre d'engins à cette itération | Coût cumulatif |\n",
            "+------------+-------+-------+-----------------------------------+----------------+\n",
            "|     1      |   36  |   0   |                 36                |     36000      |\n",
            "|     2      |   25  |   0   |                 61                |     68200      |\n",
            "|     3      |   23  |   0   |                 84                |     103400     |\n",
            "|     4      |   3   |   0   |                 87                |     123200     |\n",
            "|     5      |   34  |   0   |                121                |     174600     |\n",
            "|     6      |   0   |   0   |                121                |     198800     |\n",
            "|     7      |   0   |   0   |                121                |     223000     |\n",
            "|     8      |   0   |   0   |                121                |     247200     |\n",
            "|     9      |   0   |   0   |                121                |     271400     |\n",
            "|     10     |   0   |   0   |                121                |     295600     |\n",
            "|     11     |   0   |   0   |                121                |     319800     |\n",
            "|     12     |   28  |   0   |                149                |     372000     |\n",
            "|     13     |   0   |   0   |                149                |     401800     |\n",
            "|     14     |   9   |   0   |                158                |     440600     |\n",
            "|     15     |   0   |   0   |                158                |     472200     |\n",
            "|     16     |   0   |   0   |                158                |     503800     |\n",
            "|     17     |   0   |   0   |                158                |     535400     |\n",
            "|     18     |   22  |   0   |                180                |     589000     |\n",
            "|     19     |   0   |   10  |                170                |     635000     |\n",
            "|     20     |   0   |   5   |                165                |     674000     |\n",
            "|     21     |   0   |   7   |                158                |     714000     |\n",
            "|     22     |   0   |   27  |                131                |     772600     |\n",
            "|     23     |   0   |   0   |                131                |     798800     |\n",
            "|     24     |   0   |   0   |                131                |     825000     |\n",
            "|     25     |   0   |   0   |                131                |     851200     |\n",
            "|     26     |   0   |   0   |                131                |     877400     |\n",
            "|     27     |   0   |   0   |                131                |     903600     |\n",
            "|     28     |   0   |   0   |                131                |     929800     |\n",
            "|     29     |   0   |   0   |                131                |     956000     |\n",
            "|     30     |   0   |   0   |                131                |     982200     |\n",
            "|     31     |   0   |   0   |                131                |    1008400     |\n",
            "|     32     |   0   |   0   |                131                |    1034600     |\n",
            "|     33     |   0   |   0   |                131                |    1060800     |\n",
            "|     34     |   0   |   5   |                126                |    1092000     |\n",
            "|     35     |   0   |   1   |                125                |    1118200     |\n",
            "|     36     |   0   |   0   |                125                |    1143200     |\n",
            "|     37     |   0   |   0   |                125                |    1168200     |\n",
            "|     38     |   0   |   0   |                125                |    1193200     |\n",
            "|     39     |   0   |   0   |                125                |    1218200     |\n",
            "|     40     |   0   |   0   |                125                |    1243200     |\n",
            "|     41     |   0   |   0   |                125                |    1268200     |\n",
            "|     42     |   0   |   0   |                125                |    1293200     |\n",
            "|     43     |   0   |   0   |                125                |    1318200     |\n",
            "|     44     |   0   |   0   |                125                |    1343200     |\n",
            "|     45     |   20  |   0   |                145                |    1388200     |\n",
            "|     46     |   0   |   0   |                145                |    1417200     |\n",
            "|     47     |   5   |   0   |                150                |    1451200     |\n",
            "|     48     |   0   |   0   |                150                |    1481200     |\n",
            "|     49     |   0   |   0   |                150                |    1511200     |\n",
            "|     50     |   0   |   0   |                150                |    1541200     |\n",
            "|     51     |   0   |   0   |                150                |    1571200     |\n",
            "|     52     |   0   |   0   |                150                |    1601200     |\n",
            "|     53     |   16  |   0   |                166                |    1647200     |\n",
            "|     54     |   0   |   0   |                166                |    1680400     |\n",
            "|     55     |   1   |   0   |                167                |    1714600     |\n",
            "|     56     |   0   |   3   |                164                |    1751000     |\n",
            "|     57     |   0   |   0   |                164                |    1783800     |\n",
            "|     58     |   0   |   0   |                164                |    1816600     |\n",
            "|     59     |   0   |   0   |                164                |    1849400     |\n",
            "|     60     |   0   |   27  |                137                |    1909200     |\n",
            "|     61     |   0   |   3   |                134                |    1939600     |\n",
            "|     62     |   0   |   0   |                134                |    1966400     |\n",
            "|     63     |   0   |   0   |                134                |    1993200     |\n",
            "|     64     |   0   |   0   |                134                |    2020000     |\n",
            "|     65     |   0   |   0   |                134                |    2046800     |\n",
            "|     66     |   0   |   0   |                134                |    2073600     |\n",
            "|     67     |   0   |   0   |                134                |    2100400     |\n",
            "|     68     |   0   |   0   |                134                |    2127200     |\n",
            "|     69     |   0   |   0   |                134                |    2154000     |\n",
            "|     70     |   0   |   0   |                134                |    2180800     |\n",
            "|     71     |   0   |   0   |                134                |    2207600     |\n",
            "|     72     |   0   |   0   |                134                |    2234400     |\n",
            "|     73     |   7   |   0   |                141                |    2268200     |\n",
            "|     74     |   14  |   0   |                155                |    2310400     |\n",
            "|     75     |   0   |   4   |                151                |    2345400     |\n",
            "|     76     |   0   |   26  |                125                |    2401600     |\n",
            "|     77     |   0   |   0   |                125                |    2426600     |\n",
            "|     78     |   0   |   16  |                109                |    2467600     |\n",
            "|     79     |   0   |   0   |                109                |    2489400     |\n",
            "|     80     |   0   |   0   |                109                |    2511200     |\n",
            "|     81     |   0   |   0   |                109                |    2533000     |\n",
            "|     82     |   0   |   0   |                109                |    2554800     |\n",
            "|     83     |   0   |   0   |                109                |    2576600     |\n",
            "|     84     |   0   |   0   |                109                |    2598400     |\n",
            "|     85     |   0   |   0   |                109                |    2620200     |\n",
            "|     86     |   0   |   0   |                109                |    2642000     |\n",
            "|     87     |   0   |   0   |                109                |    2663800     |\n",
            "|     88     |   3   |   0   |                112                |    2688600     |\n",
            "|     89     |   37  |   0   |                149                |    2748000     |\n",
            "|     90     |   22  |   0   |                171                |    2799800     |\n",
            "|     91     |   0   |   0   |                171                |    2834000     |\n",
            "|     92     |   2   |   0   |                173                |    2870200     |\n",
            "|     93     |   0   |   0   |                173                |    2904800     |\n",
            "|     94     |   0   |   0   |                173                |    2939400     |\n",
            "|     95     |   0   |   0   |                173                |    2974000     |\n",
            "|     96     |   0   |   0   |                173                |    3008600     |\n",
            "|     97     |   0   |   0   |                173                |    3043200     |\n",
            "|     98     |   0   |   0   |                173                |    3077800     |\n",
            "|     99     |   0   |   44  |                129                |    3156400     |\n",
            "|    100     |   0   |  129  |                 0                 |    3311200     |\n",
            "+------------+-------+-------+-----------------------------------+----------------+\n"
          ],
          "name": "stdout"
        }
      ]
    },
    {
      "cell_type": "markdown",
      "metadata": {
        "id": "-1aSmVrkic8S"
      },
      "source": [
        "### Plot du nombre d'engins en fonction de l'étape "
      ]
    },
    {
      "cell_type": "code",
      "metadata": {
        "id": "ygfnfLM2ic8S",
        "outputId": "ccaf92d8-df6d-4edd-9e2d-da5b473f33b6"
      },
      "source": [
        "plt.figure(figsize=(30,10))\n",
        "\n",
        "plt.plot(range(1,n_iter+1),x_result[2,:],'ro')\n",
        "plt.xticks(list(range(1,n_iter+1)))\n",
        "\n",
        "plt.grid(True)\n",
        "plt.xlabel('Itération ', size=16)\n",
        "plt.ylabel(\"Nombre d'engins\", size=16)\n",
        "plt.title(\"Nombre d'engins en fonction de l'itération\", size=16)\n",
        "plt.show()"
      ],
      "execution_count": null,
      "outputs": [
        {
          "output_type": "display_data",
          "data": {
            "image/png": "[encoded data removed]",
            "text/plain": [
              "<Figure size 2160x720 with 1 Axes>"
            ]
          },
          "metadata": {
            "tags": [],
            "needs_background": "light"
          }
        }
      ]
    },
    {
      "cell_type": "markdown",
      "metadata": {
        "id": "rRfPOBznic8S"
      },
      "source": [
        "## Problème 3 "
      ]
    },
    {
      "cell_type": "markdown",
      "metadata": {
        "id": "QoI80eHuic8S"
      },
      "source": [
        "## Méthode gloutonne "
      ]
    },
    {
      "cell_type": "markdown",
      "metadata": {
        "id": "1I-1calgic8S"
      },
      "source": [
        "Dans cette méthode , on tire N couples (a,b) qui respectent les contraintes . Ensuite, on détermine l'ensemble des points qui ne sont pas dominés parmi les N. Ces points là forment alors le front de Pareto. "
      ]
    },
    {
      "cell_type": "code",
      "metadata": {
        "id": "_iXG49baic8S"
      },
      "source": [
        "def generate_example():\n",
        "    a = np.random.uniform(0.02,1,1)\n",
        "    b = np.random.uniform(0.,a-0.01,1)\n",
        "    return (a[0] , b[0])\n",
        "def calculate_p_d(a_b_list):\n",
        "    res=[]\n",
        "    for a,b in a_b_list :\n",
        "        p=a**2-b**2\n",
        "        d=(10**(-4))/(10**(-2)+a**4-b**4)\n",
        "        res.append((p,d))\n",
        "    return res\n",
        "def check_domination(couple_p_d,list_p_d,i) : \n",
        "    p,d=couple_p_d\n",
        "    for k,(p_bis,d_bis) in enumerate(list_p_d) :\n",
        "        if k==i :\n",
        "            continue\n",
        "        if (p_bis <= p and  d_bis <= d) and  (p_bis < p or d_bis < d ):\n",
        "            return True\n",
        "    return False\n",
        "        \n",
        "def get_pareto_front(N) :\n",
        "    \"\"\"\n",
        "    Approximate pareto front with greedy algorithm.\n",
        "    \"\"\"\n",
        "    a_b_list = [generate_example() for k in range(N)]\n",
        "    \n",
        "    list_p_d = calculate_p_d (a_b_list)\n",
        "    pareto=[]\n",
        "    for i,couple_p_d in enumerate(list_p_d) :\n",
        "        if (check_domination(couple_p_d, list_p_d,i)==False):\n",
        "            pareto.append(couple_p_d)\n",
        "            \n",
        "    return pareto\n",
        "        "
      ],
      "execution_count": null,
      "outputs": []
    },
    {
      "cell_type": "code",
      "metadata": {
        "id": "GbE3886Jic8T",
        "outputId": "57385289-4148-4da8-8bc9-625a787a614e"
      },
      "source": [
        "fig, ax = plt.subplots(2, 2, figsize=(16, 5))\n",
        "tab_axes=[[0,0],[1,0],[0,1],[1,1]]\n",
        "tab_N = [100, 1000,10000,100000]\n",
        "for i,N in enumerate(tab_N) :\n",
        "    rest=get_pareto_front(N=N) \n",
        "    \n",
        "    k,j=tab_axes[i]\n",
        "    ax[k][j].plot([res[0] for res in rest ],[res[1] for res in rest] ,'bo' )\n",
        "    #ax[k][j].legend(loc=\"upper right\")\n",
        "    #plt.legend()\n",
        "    ax[k][j].set_title('N={}'.format(N))\n",
        "\n",
        "fig.tight_layout()\n",
        "#plt.subplots_adjust(bottom=0., right=0.8, top=)\n",
        "plt.show()  \n",
        "\n"
      ],
      "execution_count": null,
      "outputs": [
        {
          "output_type": "display_data",
          "data": {
            "image/png": "[encoded data removed]",
            "text/plain": [
              "<Figure size 1152x360 with 4 Axes>"
            ]
          },
          "metadata": {
            "tags": [],
            "needs_background": "light"
          }
        }
      ]
    },
    {
      "cell_type": "markdown",
      "metadata": {
        "id": "15NpmXo5ic8T"
      },
      "source": [
        "On remarque qu'il nous faut un N assez grand pour former un front de Pareto visualisable. Ceci a notamment des répercussions sur l'évaluation des objectifs , qu'on doit réaliser aussi pour des exemples parmi les N qui ne forment pas le front.\n",
        "\n",
        "De plus d'après les graphes, le front de Pareto a une allure convexe."
      ]
    },
    {
      "cell_type": "markdown",
      "metadata": {
        "id": "UIBvE1wtic8T"
      },
      "source": [
        "## Méthode plus sophistiquée "
      ]
    },
    {
      "cell_type": "markdown",
      "metadata": {
        "id": "4WfS4-PWic8T"
      },
      "source": [
        "Ici , on va essayer de trouver le front de pareto en minimisant le problème $$ p(a,b)+ \\alpha \\times d(a,b),\\text{ avec } \\alpha \\in [0 , + \\infty[$$"
      ]
    },
    {
      "cell_type": "code",
      "metadata": {
        "id": "mRmmWOXpic8T"
      },
      "source": [
        "def func_to_minimize(x,alpha) :\n",
        "    p=x[0]**2-x[1]**2\n",
        "    d=(10**(-4))/(10**(-2)+x[0]**4-x[1]**4)\n",
        "    return p + alpha * d "
      ],
      "execution_count": null,
      "outputs": []
    },
    {
      "cell_type": "code",
      "metadata": {
        "id": "cKwUtXQIic8T",
        "outputId": "641d8066-c5e8-43a7-8866-e4fa2e39f913"
      },
      "source": [
        "from scipy.optimize import NonlinearConstraint\n",
        "\n",
        "tab_alphas = np.linspace(0,100000,10000)\n",
        "nlc = lambda x: x[1] - x[0]\n",
        "A=np.eye(2)\n",
        "    \n",
        "constr1 = NonlinearConstraint(nlc,-np.inf, -0.01)\n",
        "constr2=optimize.LinearConstraint(A=A,lb=[0.02 , 0 ],ub=[1,np.inf])\n",
        "\n",
        "tab_p=[]\n",
        "tab_d=[]\n",
        "for alpha in tqdm(tab_alphas,total = len (tab_alphas)) :\n",
        "    \n",
        "    a = np.random.uniform(0.02,1,1)\n",
        "    b = np.random.uniform(0.,a-0.01,1)\n",
        "    res=optimize.minimize(lambda x:func_to_minimize(x,alpha), x0=np.array([a[0],b[0]]), constraints=[constr1,constr2], method='trust-constr', tol=1e-6)\n",
        "    \n",
        "    x_min = res.x\n",
        "    tab_p.append(x_min[0]**2-x_min[1]**2)\n",
        "    tab_d.append((10**(-4))/(10**(-2)+x_min[0]**4-x_min[1]**4))\n",
        "    \n"
      ],
      "execution_count": null,
      "outputs": [
        {
          "output_type": "stream",
          "text": [
            "100%|██████████| 10000/10000 [13:12<00:00, 12.62it/s] \n"
          ],
          "name": "stderr"
        }
      ]
    },
    {
      "cell_type": "code",
      "metadata": {
        "id": "tGWQnBPZic8T",
        "outputId": "fd81e038-3d17-4dbd-8de2-1afb05ff9e79"
      },
      "source": [
        "plt.plot(tab_p,tab_d ,'bo' )\n",
        "plt.title('Pour 10000 valeurs de alpha')\n",
        "plt.show()"
      ],
      "execution_count": null,
      "outputs": [
        {
          "output_type": "display_data",
          "data": {
            "image/png": "[encoded data removed]",
            "text/plain": [
              "<Figure size 432x288 with 1 Axes>"
            ]
          },
          "metadata": {
            "tags": [],
            "needs_background": "light"
          }
        }
      ]
    },
    {
      "cell_type": "markdown",
      "metadata": {
        "id": "J23S0_yvic8U"
      },
      "source": [
        "On remarque que la reconstruction du front de pareto est incomplète dans notre cas, ceci est très probablement dû à un problème de convexité de la courbe dans la partie gauche. Ainsi , même si on a un nombre d'évaluations plus faible de cette méthode pour le même nombre de points pareto-optimaux ( car ici on ne fait l'évaluation que pour les points pareto optimaux , alors que pour la méthode précédente on le faisait aussi pour les points dominés) , on se confronte au problème de la convexité de la courbe pour certains couples (d(a,b) , p(a,b) ).  "
      ]
    }
  ]
}
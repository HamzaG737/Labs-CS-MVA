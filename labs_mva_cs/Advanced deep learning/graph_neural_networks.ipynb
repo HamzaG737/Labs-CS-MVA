{
  "nbformat": 4,
  "nbformat_minor": 0,
  "metadata": {
    "colab": {
      "name": "TP3.ipynb",
      "provenance": [],
      "collapsed_sections": [],
      "toc_visible": true
    },
    "kernelspec": {
      "name": "python3",
      "display_name": "Python 3"
    },
    "accelerator": "GPU"
  },
  "cells": [
    {
      "cell_type": "code",
      "metadata": {
        "id": "vkcXv8pa0QD-",
        "colab": {
          "base_uri": "https://localhost:8080/"
        },
        "outputId": "1ac46e94-3f53-455f-e1bf-ccd90e9d1db3"
      },
      "source": [
        "!pip install dgl-cu100"
      ],
      "execution_count": null,
      "outputs": [
        {
          "output_type": "stream",
          "text": [
            "Collecting dgl-cu100\n",
            "\u001b[?25l  Downloading https://files.pythonhosted.org/packages/11/bb/0968935c12dcabefc3d9dd1dc22396137a3d794b48af715e9dc3d547f69c/dgl_cu100-0.5.3-cp36-cp36m-manylinux1_x86_64.whl (24.6MB)\n",
            "\u001b[K     |████████████████████████████████| 24.6MB 132kB/s \n",
            "\u001b[?25hRequirement already satisfied: networkx>=2.1 in /usr/local/lib/python3.6/dist-packages (from dgl-cu100) (2.5)\n",
            "Requirement already satisfied: scipy>=1.1.0 in /usr/local/lib/python3.6/dist-packages (from dgl-cu100) (1.4.1)\n",
            "Requirement already satisfied: requests>=2.19.0 in /usr/local/lib/python3.6/dist-packages (from dgl-cu100) (2.23.0)\n",
            "Requirement already satisfied: numpy>=1.14.0 in /usr/local/lib/python3.6/dist-packages (from dgl-cu100) (1.19.5)\n",
            "Requirement already satisfied: decorator>=4.3.0 in /usr/local/lib/python3.6/dist-packages (from networkx>=2.1->dgl-cu100) (4.4.2)\n",
            "Requirement already satisfied: chardet<4,>=3.0.2 in /usr/local/lib/python3.6/dist-packages (from requests>=2.19.0->dgl-cu100) (3.0.4)\n",
            "Requirement already satisfied: certifi>=2017.4.17 in /usr/local/lib/python3.6/dist-packages (from requests>=2.19.0->dgl-cu100) (2020.12.5)\n",
            "Requirement already satisfied: urllib3!=1.25.0,!=1.25.1,<1.26,>=1.21.1 in /usr/local/lib/python3.6/dist-packages (from requests>=2.19.0->dgl-cu100) (1.24.3)\n",
            "Requirement already satisfied: idna<3,>=2.5 in /usr/local/lib/python3.6/dist-packages (from requests>=2.19.0->dgl-cu100) (2.10)\n",
            "Installing collected packages: dgl-cu100\n",
            "Successfully installed dgl-cu100-0.5.3\n"
          ],
          "name": "stdout"
        }
      ]
    },
    {
      "cell_type": "code",
      "metadata": {
        "colab": {
          "base_uri": "https://localhost:8080/"
        },
        "id": "nn2h_pHzjUU6",
        "outputId": "0bd0132d-fcf7-4139-fe86-bc9d9fdf06b4"
      },
      "source": [
        "from google.colab import drive\n",
        "drive.mount('/content/drive')"
      ],
      "execution_count": null,
      "outputs": [
        {
          "output_type": "stream",
          "text": [
            "Drive already mounted at /content/drive; to attempt to forcibly remount, call drive.mount(\"/content/drive\", force_remount=True).\n"
          ],
          "name": "stdout"
        }
      ]
    },
    {
      "cell_type": "code",
      "metadata": {
        "id": "Vm_qFS9w0T68",
        "colab": {
          "base_uri": "https://localhost:8080/"
        },
        "outputId": "f263d0fe-0f35-4020-eead-a3e599d5920b"
      },
      "source": [
        "import argparse\n",
        "from os import path\n",
        "\n",
        "import numpy as np\n",
        "import torch\n",
        "import torch.nn.functional as F\n",
        "import torch.nn as nn\n",
        "from dgl import batch\n",
        "from dgl.data.ppi import LegacyPPIDataset\n",
        "from dgl.nn.pytorch import GraphConv,GATConv\n",
        "from sklearn.metrics import f1_score\n",
        "from torch import nn, optim\n",
        "from torch.utils.data import DataLoader\n",
        "\n",
        "import dgl.function as fn\n",
        "from dgl.nn.pytorch.softmax import edge_softmax\n",
        "from dgl.nn.pytorch.utils import Identity\n",
        "from dgl.utils import expand_as_pair\n",
        "\n",
        "#MODEL_STATE_FILE = \"/content/drive/MyDrive/data_CS_MVA/ADL/model_state.pth\"\n",
        "MODEL_STATE_FILE = \"/content/drive/MyDrive/model_state.pth\"\n"
      ],
      "execution_count": null,
      "outputs": [
        {
          "output_type": "stream",
          "text": [
            "DGL backend not selected or invalid.  Assuming PyTorch for now.\n",
            "Using backend: pytorch\n"
          ],
          "name": "stderr"
        },
        {
          "output_type": "stream",
          "text": [
            "Setting the default backend to \"pytorch\". You can change it in the ~/.dgl/config.json file or export the DGLBACKEND environment variable.  Valid options are: pytorch, mxnet, tensorflow (all lowercase)\n"
          ],
          "name": "stdout"
        }
      ]
    },
    {
      "cell_type": "code",
      "metadata": {
        "id": "Harwc60OARwb"
      },
      "source": [
        "import matplotlib.pyplot as plt\n",
        "%matplotlib inline"
      ],
      "execution_count": null,
      "outputs": []
    },
    {
      "cell_type": "markdown",
      "metadata": {
        "id": "Yc5fctuy1UHk"
      },
      "source": [
        "## train-eval-test"
      ]
    },
    {
      "cell_type": "code",
      "metadata": {
        "id": "cYkNnPhZ0YoB"
      },
      "source": [
        "def train(model, loss_fcn, device, optimizer, train_dataloader, valid_dataset , epochs , early_stop):\n",
        "    hist = {'epochs':[],'loss':[],'score_val':[]}\n",
        "    max_score_val = 0\n",
        "    max_patience,patience = 40,0\n",
        "    for epoch in range(epochs):\n",
        "        model.train()\n",
        "        losses = []\n",
        "        for batch, data in enumerate(train_dataloader):\n",
        "            subgraph, features, labels = data\n",
        "            features = features.to(device)\n",
        "            labels = labels.to(device)\n",
        "            model.g = subgraph\n",
        "            for layer in model.layers:\n",
        "                layer.g = subgraph\n",
        "            logits = model(features.float())\n",
        "            loss = loss_fcn(logits, labels.float())\n",
        "            optimizer.zero_grad()\n",
        "            loss.backward()\n",
        "            optimizer.step()\n",
        "            losses.append(loss.item())\n",
        "        loss_data = np.array(losses).mean()\n",
        "        print(\"Epoch {:05d} | Loss: {:.4f}\".format(epoch + 1, loss_data))\n",
        "\n",
        "        if epoch % 5 == 0:\n",
        "            scores = []\n",
        "            for batch, valid_data in enumerate(valid_dataset):\n",
        "                subgraph, features, labels = valid_data\n",
        "                features = features.clone().detach().to(device)\n",
        "                labels = labels.clone().detach().to(device)\n",
        "                score, _ = evaluate(features.float(), model, subgraph, labels.float(), loss_fcn)\n",
        "                scores.append(score)\n",
        "            score_val = np.array(scores).mean()\n",
        "            print(\"F1-Score: {:.4f} \".format(score_val))\n",
        "            hist['score_val'].append(score_val)\n",
        "            hist['epochs'].append(epoch+1)\n",
        "            hist['loss'].append(loss_data)\n",
        "            \n",
        "            if early_stop : \n",
        "              if score_val > max_score_val :\n",
        "                  max_score_val = score_val\n",
        "                  patience = 0 \n",
        "                  torch.save(model.state_dict(), MODEL_STATE_FILE)\n",
        "              else :\n",
        "                  patience +=1\n",
        "                  if patience >= max_patience:\n",
        "                      break\n",
        "            \n",
        "\n",
        "\n",
        "def test(model, loss_fcn, device, test_dataloader):\n",
        "    test_scores = []\n",
        "    for batch, test_data in enumerate(test_dataloader):\n",
        "        subgraph, features, labels = test_data\n",
        "        features = features.to(device)\n",
        "        labels = labels.to(device)\n",
        "        test_scores.append(evaluate(features, model, subgraph, labels.float(), loss_fcn)[0])\n",
        "    mean_scores = np.array(test_scores).mean()\n",
        "    print(\"F1-Score: {:.4f}\".format(np.array(test_scores).mean()))\n",
        "    return mean_scores\n",
        "\n",
        "\n",
        "def evaluate(features, model, subgraph, labels, loss_fcn):\n",
        "    with torch.no_grad():\n",
        "        model.eval()\n",
        "        model.g = subgraph\n",
        "        for layer in model.layers:\n",
        "            layer.g = subgraph\n",
        "        output = model(features.float())\n",
        "        loss_data = loss_fcn(output, labels.float())\n",
        "        predict = np.where(output.data.cpu().numpy() >= 0.5, 1, 0)\n",
        "        score = f1_score(labels.data.cpu().numpy(), predict, average=\"micro\")\n",
        "        return score, loss_data.item()\n",
        "\n",
        "\n",
        "def collate_fn(sample):\n",
        "    graphs, features, labels = map(list, zip(*sample))\n",
        "    graph = batch(graphs)\n",
        "    features = torch.from_numpy(np.concatenate(features))\n",
        "    labels = torch.from_numpy(np.concatenate(labels))\n",
        "    return graph, features, labels\n",
        "\n",
        "\n",
        "\n"
      ],
      "execution_count": null,
      "outputs": []
    },
    {
      "cell_type": "markdown",
      "metadata": {
        "id": "e9Yy7ZPngwLM"
      },
      "source": [
        "# Main function"
      ]
    },
    {
      "cell_type": "code",
      "metadata": {
        "id": "bucbuxEC12Xg"
      },
      "source": [
        "def main(batch_size  ,mode, epochs , early_stop = True):\n",
        "    # create the dataset\n",
        "    train_dataset, valid_dataset, test_dataset = LegacyPPIDataset(mode=\"train\"), LegacyPPIDataset(mode=\"valid\"), LegacyPPIDataset(mode=\"test\")\n",
        "    train_dataloader = DataLoader(train_dataset,batch_size, collate_fn=collate_fn)\n",
        "    valid_dataloader = DataLoader(valid_dataset, batch_size, collate_fn=collate_fn)\n",
        "    test_dataloader = DataLoader(test_dataset, batch_size, collate_fn=collate_fn)\n",
        "    n_features, n_classes = train_dataset.features.shape[1], train_dataset.labels.shape[1]\n",
        "\n",
        "    # create the model, loss function and optimizer\n",
        "    device = torch.device('cuda' if torch.cuda.is_available() else 'cpu')\n",
        "    model = BasicGraphModel(g=train_dataset.graph.to(device), n_layers=2, input_size=n_features,\n",
        "                            hidden_size=256, output_size=n_classes, nonlinearity=F.elu,device=device).to(device)\n",
        "    \n",
        "    loss_fcn = nn.BCEWithLogitsLoss()\n",
        "    #lr=0.005 as in the paper\n",
        "    optimizer = torch.optim.Adam(model.parameters(), lr=0.005)\n",
        "\n",
        "    # train and test\n",
        "    if mode == \"train\":\n",
        "        train(model, loss_fcn, device, optimizer, train_dataloader, valid_dataset , epochs , early_stop = early_stop)\n",
        "        #torch.save(model.state_dict(), MODEL_STATE_FILE)\n",
        "    model.load_state_dict(torch.load(MODEL_STATE_FILE))\n",
        "    return test(model, loss_fcn, device, test_dataloader) \n",
        "    "
      ],
      "execution_count": null,
      "outputs": []
    },
    {
      "cell_type": "markdown",
      "metadata": {
        "id": "ef7DbL24aY5f"
      },
      "source": [
        "# Model architecture"
      ]
    },
    {
      "cell_type": "code",
      "metadata": {
        "id": "sdjv065a1Sux"
      },
      "source": [
        "class noGATConv(nn.Module):\n",
        "    def __init__(self,\n",
        "                 in_feats,\n",
        "                 out_feats,\n",
        "                 num_heads,\n",
        "                 feat_drop=0.,\n",
        "                 attn_drop=0.,\n",
        "                 negative_slope=0.2,\n",
        "                 residual=False,\n",
        "                 activation=None,\n",
        "                 device=None,\n",
        "                 allow_zero_in_degree=False):\n",
        "        super(noGATConv, self).__init__()\n",
        "        self._num_heads = num_heads\n",
        "        self._in_src_feats, self._in_dst_feats = expand_as_pair(in_feats)\n",
        "        self._out_feats = out_feats\n",
        "        self._allow_zero_in_degree = allow_zero_in_degree\n",
        "        if isinstance(in_feats, tuple):\n",
        "            self.fc_src = nn.Linear(\n",
        "                self._in_src_feats, out_feats * num_heads, bias=False)\n",
        "            self.fc_dst = nn.Linear(\n",
        "                self._in_dst_feats, out_feats * num_heads, bias=False)\n",
        "        else:\n",
        "            self.fc = nn.Linear(\n",
        "                self._in_src_feats, out_feats * num_heads, bias=False)\n",
        "        #self.attn_l = torch.ones([1,num_heads,out_feats], dtype=torch.float64, device=device)\n",
        "        self.attn_l = 1.\n",
        "        #self.attn_r = torch.ones([1,num_heads,out_feats], dtype=torch.float64,device=device)\n",
        "        self.attn_r = 1.\n",
        "        self.feat_drop = nn.Dropout(feat_drop)\n",
        "        self.attn_drop = nn.Dropout(attn_drop)\n",
        "        self.leaky_relu = nn.LeakyReLU(negative_slope)\n",
        "        if residual:\n",
        "            if self._in_dst_feats != out_feats:\n",
        "                self.res_fc = nn.Linear(\n",
        "                    self._in_dst_feats, num_heads * out_feats, bias=False)\n",
        "            else:\n",
        "                self.res_fc = Identity()\n",
        "        else:\n",
        "            self.register_buffer('res_fc', None)\n",
        "        self.reset_parameters()\n",
        "        self.activation = activation\n",
        "\n",
        "    def reset_parameters(self):\n",
        "        \"\"\"\n",
        "\n",
        "        Description\n",
        "        -----------\n",
        "        Reinitialize learnable parameters.\n",
        "\n",
        "        Note\n",
        "        ----\n",
        "        The fc weights :math:`W^{(l)}` are initialized using Glorot uniform initialization.\n",
        "        The attention weights are using xavier initialization method.\n",
        "        \"\"\"\n",
        "        gain = nn.init.calculate_gain('relu')\n",
        "        if hasattr(self, 'fc'):\n",
        "            nn.init.xavier_normal_(self.fc.weight, gain=gain)\n",
        "        else:\n",
        "            nn.init.xavier_normal_(self.fc_src.weight, gain=gain)\n",
        "            nn.init.xavier_normal_(self.fc_dst.weight, gain=gain)\n",
        "        #nn.init.xavier_normal_(self.attn_l, gain=gain)\n",
        "        #nn.init.xavier_normal_(self.attn_r, gain=gain)\n",
        "        if isinstance(self.res_fc, nn.Linear):\n",
        "            nn.init.xavier_normal_(self.res_fc.weight, gain=gain)\n",
        "\n",
        "    def set_allow_zero_in_degree(self, set_value):\n",
        "        self._allow_zero_in_degree = set_value\n",
        "\n",
        "    def forward(self, graph, feat, get_attention=False):\n",
        "  \n",
        "        with graph.local_scope():\n",
        "\n",
        "            if isinstance(feat, tuple):\n",
        "                h_src = self.feat_drop(feat[0])\n",
        "                h_dst = self.feat_drop(feat[1])\n",
        "                if not hasattr(self, 'fc_src'):\n",
        "                    feat_src = self.fc(h_src).view(-1, self._num_heads, self._out_feats)\n",
        "                    feat_dst = self.fc(h_dst).view(-1, self._num_heads, self._out_feats)\n",
        "                else:\n",
        "                    feat_src = self.fc_src(h_src).view(-1, self._num_heads, self._out_feats)\n",
        "                    feat_dst = self.fc_dst(h_dst).view(-1, self._num_heads, self._out_feats)\n",
        "            else:\n",
        "                h_src = h_dst = self.feat_drop(feat)\n",
        "                feat_src = feat_dst = self.fc(h_src).view(\n",
        "                    -1, self._num_heads, self._out_feats)\n",
        "                if graph.is_block:\n",
        "                    feat_dst = feat_src[:graph.number_of_dst_nodes()]\n",
        "\n",
        "            el = (feat_src * self.attn_l).sum(dim=-1).unsqueeze(-1)\n",
        "            er = (feat_dst * self.attn_r).sum(dim=-1).unsqueeze(-1)\n",
        "            graph.srcdata.update({'ft': feat_src, 'el': el})\n",
        "            graph.dstdata.update({'er': er})\n",
        "            # compute edge attention, el and er are a_l Wh_i and a_r Wh_j respectively.\n",
        "            graph.apply_edges(fn.u_add_v('el', 'er', 'e'))\n",
        "            e = self.leaky_relu(graph.edata.pop('e'))\n",
        "            # compute softmax\n",
        "            graph.edata['a'] = self.attn_drop(edge_softmax(graph, e))\n",
        "            # message passing\n",
        "            graph.update_all(fn.u_mul_e('ft', 'a', 'm'),\n",
        "                             fn.sum('m', 'ft'))\n",
        "            rst = graph.dstdata['ft']\n",
        "            # residual\n",
        "            if self.res_fc is not None:\n",
        "                resval = self.res_fc(h_dst).view(h_dst.shape[0], -1, self._out_feats)\n",
        "                rst = rst + resval\n",
        "            # activation\n",
        "            if self.activation:\n",
        "                rst = self.activation(rst)\n",
        "\n",
        "            if get_attention:\n",
        "                return rst, graph.edata['a']\n",
        "            else:\n",
        "                return rst\n",
        "\n",
        "class BasicGraphModel(nn.Module):\n",
        "\n",
        "    def __init__(self, g, n_layers, input_size, hidden_size, output_size, nonlinearity , device ,heads_hid = 4 , heads_end = 6):\n",
        "        super().__init__()\n",
        "\n",
        "        self.g = g\n",
        "        self.device = device\n",
        "        self.layers = nn.ModuleList()\n",
        "        self.layers.append(GATConv(input_size, hidden_size, num_heads=heads_hid ,activation=nonlinearity , residual=True))\n",
        "        old_size = heads_hid * hidden_size\n",
        "        for i in range(n_layers - 1):\n",
        "            current_size = old_size * heads_hid\n",
        "            self.layers.append(GATConv(old_size,old_size, num_heads=heads_hid, activation=nonlinearity , residual=True))\n",
        "            old_size = current_size\n",
        "        self.layers.append(GATConv(old_size, output_size, num_heads=heads_end))\n",
        "        self.sig = nn.Sigmoid()\n",
        "    def forward(self, inputs):\n",
        "        outputs = inputs\n",
        "        for i, layer in enumerate(self.layers[:-1]):\n",
        "            outputs = layer(self.g.to(self.device), outputs.to(self.device))\n",
        "            outputs = outputs.view(outputs.shape[0],-1)      \n",
        "        outputs = self.layers[-1](self.g.to(self.device), outputs.to(self.device))\n",
        "        outputs = torch.mean(outputs,dim = 1)\n",
        "        return outputs"
      ],
      "execution_count": null,
      "outputs": []
    },
    {
      "cell_type": "markdown",
      "metadata": {
        "id": "9xTyaobS1fav"
      },
      "source": [
        "# Main"
      ]
    },
    {
      "cell_type": "code",
      "metadata": {
        "id": "PfMyhum11jJG"
      },
      "source": [
        "mode = 'train'\n",
        "epochs = 1000\n",
        "batch_size = 2"
      ],
      "execution_count": null,
      "outputs": []
    },
    {
      "cell_type": "code",
      "metadata": {
        "id": "mfPpOUoo1gNu"
      },
      "source": [
        "test_score = main(batch_size = batch_size ,  mode = mode , epochs = epochs)"
      ],
      "execution_count": null,
      "outputs": []
    },
    {
      "cell_type": "code",
      "metadata": {
        "id": "nFeGAPwDgVjf"
      },
      "source": [
        "import numpy as np\n",
        "loss_transf = np.load('/content/losses_train_transf.npy')\n",
        "acc_transf = np.load('/content/scores_val_transf.npy')"
      ],
      "execution_count": null,
      "outputs": []
    },
    {
      "cell_type": "code",
      "metadata": {
        "id": "dFSMg3ptgiZJ"
      },
      "source": [
        "loss_transf1 = [loss_transf[i] for i in range(200) if i%5==0]\n",
        "acc_transf = [acc_transf[i] for i in range(200) if i%5==0]"
      ],
      "execution_count": null,
      "outputs": []
    },
    {
      "cell_type": "code",
      "metadata": {
        "colab": {
          "base_uri": "https://localhost:8080/",
          "height": 279
        },
        "id": "bojH6xo70MWm",
        "outputId": "83100db0-d76e-436a-cc82-3285cd8a4a21"
      },
      "source": [
        "plt.figure()\n",
        "plt.plot(hist_no_att['epochs'],loss_transf1, label=\"similarity attention\")\n",
        "plt.plot(hist_no_att['epochs'],hist_att['loss'], label=\"utility attention\")\n",
        "plt.plot(hist_no_att['epochs'],hist_no_att['loss'],label=\"no attention\")\n",
        "\n",
        "\n",
        "\n",
        "lines = plt.gca().get_lines()\n",
        "include = [0,1,2]\n",
        "legend1 = plt.legend([lines[i] for i in include],[lines[i].get_label() for i in include], loc=0)\n",
        "\n",
        "plt.ylabel('Training Loss')\n",
        "plt.xlabel('Number of epochs')\n",
        "plt.savefig('loss.png')\n",
        "plt.show()\n",
        "\n"
      ],
      "execution_count": null,
      "outputs": [
        {
          "output_type": "display_data",
          "data": {
            "image/png": "[encoded data removed]",
            "text/plain": [
              "<Figure size 432x288 with 1 Axes>"
            ]
          },
          "metadata": {
            "tags": [],
            "needs_background": "light"
          }
        }
      ]
    },
    {
      "cell_type": "code",
      "metadata": {
        "id": "N3dNLswOIgP-"
      },
      "source": [
        ""
      ],
      "execution_count": null,
      "outputs": []
    }
  ]
}
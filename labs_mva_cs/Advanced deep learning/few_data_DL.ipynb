{
  "nbformat": 4,
  "nbformat_minor": 0,
  "metadata": {
    "kernelspec": {
      "display_name": "Python 3",
      "language": "python",
      "name": "python3"
    },
    "language_info": {
      "codemirror_mode": {
        "name": "ipython",
        "version": 3
      },
      "file_extension": ".py",
      "mimetype": "text/x-python",
      "name": "python",
      "nbconvert_exporter": "python",
      "pygments_lexer": "ipython3",
      "version": "3.7.6"
    },
    "colab": {
      "name": "TP4_transfer.ipynb",
      "provenance": [],
      "collapsed_sections": [],
      "toc_visible": true
    },
    "accelerator": "GPU"
  },
  "cells": [
    {
      "cell_type": "markdown",
      "metadata": {
        "id": "1_jTI5uS5ocB"
      },
      "source": [
        "# Small data and deep learning\n",
        "This Pratical session proposes to study several techniques for improving challenging context, in which few data and resources are available."
      ]
    },
    {
      "cell_type": "markdown",
      "metadata": {
        "id": "Pwmrj8TJ5ocD"
      },
      "source": [
        "# Introduction\n",
        "Assume we are in a context where few \"gold\" labeled data are available for training, say $\\mathcal{X}_{\\text{train}}\\triangleq\\{(x_n,y_n)\\}_{n\\leq N_{\\text{train}}}$, where $N_{\\text{train}}$ is small. A large test set $\\mathcal{X}_{\\text{test}}$ is available. A large amount of unlabeled data, $\\mathcal{X}$, is available. We also assume that we have a limited computational budget (e.g., no GPUs).\n",
        "\n",
        "For each question, write a commented *Code* or a complete answer as a *Markdown*. When the objective of a question is to report a CNN accuracy, please use the following format to report it, at the end of the question:\n",
        "\n",
        "| Model | Number of  epochs  | Train accuracy | Test accuracy |\n",
        "|------|------|------|------|\n",
        "|   XXX  | XXX | XXX | XXX |\n",
        "\n",
        "If applicable, please add the field corresponding to the  __Accuracy on Full Data__ as well as a link to the __Reference paper__ you used to report those numbers. (You do not need to train a CNN on the full CIFAR10 dataset)\n",
        "\n",
        "In your final report, please keep the logs of each training procedure you used. We will only run this jupyter if we have some doubts on your implementation. \n",
        "\n",
        "__The total file sizes should be reasonable (feasible with 2MB only!). You will be asked to hand in the notebook, together with any necessary files required to run it if any.__\n",
        "\n",
        "\n",
        "You can use https://colab.research.google.com/ to run your experiments."
      ]
    },
    {
      "cell_type": "markdown",
      "metadata": {
        "id": "3S1joFvc5ocE"
      },
      "source": [
        "## Training set creation\n",
        "__Question 1:__ Propose a dataloader or modify the file located at https://github.com/pytorch/vision/blob/master/torchvision/datasets/cifar.py in order to obtain a training loader that will only use the first 100 samples of the CIFAR-10 training set. "
      ]
    },
    {
      "cell_type": "markdown",
      "metadata": {
        "id": "nwI9Tm8L7p4C"
      },
      "source": [
        "### Load data "
      ]
    },
    {
      "cell_type": "code",
      "metadata": {
        "id": "zUJxtzp75ocE"
      },
      "source": [
        "import torch\n",
        "import torchvision\n",
        "import torchvision.transforms as transforms\n",
        "from torch.utils.data import SubsetRandomSampler, Dataset, DataLoader\n",
        "import PIL\n",
        "## import libs\n",
        "import torch.nn as nn\n",
        "import torch.optim as optim\n",
        "import torch.nn.functional as F\n",
        "import torchvision.models as models\n",
        "import gc \n",
        "device = 'cuda' if torch.cuda.is_available() else 'cpu'\n",
        "\n",
        "import numpy as np\n",
        "import matplotlib.pyplot as plt\n",
        "from torch.optim import lr_scheduler\n",
        "import time\n",
        "import copy"
      ],
      "execution_count": null,
      "outputs": []
    },
    {
      "cell_type": "code",
      "metadata": {
        "id": "MAoLrzbixVTA"
      },
      "source": [
        "from google.colab import drive\n",
        "drive.mount('/content/drive')"
      ],
      "execution_count": null,
      "outputs": []
    },
    {
      "cell_type": "code",
      "metadata": {
        "id": "bFXrPyR277Kh"
      },
      "source": [
        "batch_size = 10"
      ],
      "execution_count": null,
      "outputs": []
    },
    {
      "cell_type": "code",
      "metadata": {
        "colab": {
          "base_uri": "https://localhost:8080/"
        },
        "id": "h6Qn7SrO77TT",
        "outputId": "4cf21357-82a9-4282-c9fc-539f26448c77"
      },
      "source": [
        "transform = transforms.Compose([\n",
        "    transforms.Resize(224),\n",
        "    transforms.ToTensor(),\n",
        "    transforms.Normalize((0.4914, 0.4822, 0.4465), (0.2023, 0.1994, 0.2010))])\n",
        "\n",
        "trainset = torchvision.datasets.CIFAR10(root='./data', train=True,\n",
        "                                        download=True, transform=transform)\n",
        "trainloader = torch.utils.data.DataLoader(trainset, batch_size=batch_size,\n",
        "                                          sampler =SubsetRandomSampler([k for k in range(100)]),\n",
        "                                          num_workers=2)\n",
        "\n",
        "testset = torchvision.datasets.CIFAR10(root='./data', train=False,\n",
        "                                       download=True, transform=transform)\n",
        "testloader = torch.utils.data.DataLoader(testset, batch_size=batch_size,\n",
        "                                         shuffle=False, num_workers=2)"
      ],
      "execution_count": null,
      "outputs": [
        {
          "output_type": "stream",
          "text": [
            "Files already downloaded and verified\n",
            "Files already downloaded and verified\n"
          ],
          "name": "stdout"
        }
      ]
    },
    {
      "cell_type": "markdown",
      "metadata": {
        "id": "ZaWtinV_5ocE"
      },
      "source": [
        "This is our dataset $\\mathcal{X}_{\\text{train}}$, it will be used until the end of this project. The remaining samples correspond to $\\mathcal{X}$. The testing set $\\mathcal{X}_{\\text{test}}$ corresponds to the whole testing set of CIFAR-10."
      ]
    },
    {
      "cell_type": "markdown",
      "metadata": {
        "id": "8pv80uC-5ocF"
      },
      "source": [
        "## Testing procedure\n",
        "__Question 2:__ Explain why the evaluation of the training procedure is difficult. Propose several solutions.\n",
        "\n",
        "For cifar10, we have $32 \\times 32 \\times 3  = 3072 $ image dimensions. Hence , the number of dimensions is greater than the number of samples. Furthermore , pixels inputs are usually quite complex and are difficult to model. Therefore, a raw approach can lead to an overfitting problem, since the model won't be able to generalize on 100 samples for 3072 image pixels. \n",
        "To fix this issue several methods can be applied : \n",
        "* Use pretrained features (for instance on imagenet) and finetune the model on some layers.\n",
        "* Use data augmentation to increase artificially the number of labeled samples.\n",
        "* Use self-supervision or weakly supervision models to make use of the unlabeled samples."
      ]
    },
    {
      "cell_type": "markdown",
      "metadata": {
        "id": "Z0HAK53b5ocF"
      },
      "source": [
        ""
      ]
    },
    {
      "cell_type": "markdown",
      "metadata": {
        "id": "5UXxmdrl5ocF"
      },
      "source": [
        "# Raw approach: the baseline"
      ]
    },
    {
      "cell_type": "markdown",
      "metadata": {
        "id": "9guvzqZc5ocF"
      },
      "source": [
        "In this section, the goal is to train a CNN on $\\mathcal{X}_{\\text{train}}$ and compare its performance with reported numbers from the litterature. You will have to re-use and/or design a standard classification pipeline. You should optimize your pipeline to obtain the best performances (image size, data augmentation by flip, ...).\n",
        "\n",
        "The key ingredients for training a CNN are the batch size, as well as the learning rate schedule, i.e. how to decrease the learning rate as a function of the number of epochs. A possible schedule is to start the learning rate at 0.1 and decreasing it every 30 epochs by 10. In case of divergence, reduce the laerning rate. A potential batch size could be 10, yet this can be cross-validated.\n",
        "\n",
        "You can get some baselines accuracies in this paper: http://openaccess.thecvf.com/content_cvpr_2018/papers/Keshari_Learning_Structure_and_CVPR_2018_paper.pdf. Obviously, it is a different context for those researchers who had access to GPUs."
      ]
    },
    {
      "cell_type": "markdown",
      "metadata": {
        "id": "Za74Sbs45ocG"
      },
      "source": [
        "## ResNet architectures"
      ]
    },
    {
      "cell_type": "markdown",
      "metadata": {
        "id": "aF0f2yF05ocG"
      },
      "source": [
        "__Question 3:__ Write a classification pipeline for $\\mathcal{X}_{\\text{train}}$, train from scratch and evaluate a *ResNet-18* architecture specific to CIFAR10 (details about the ImageNet model can be found here: https://arxiv.org/abs/1409.1556 ). Please report the accuracy obtained on the whole dataset as well as the reference paper/GitHub link.\n",
        "\n",
        "*Hint:* You can re-use the following code: https://github.com/kuangliu/pytorch-cifar. During a training of 10 epochs, a batch size of 10 and a learning rate of 0.01, one obtains 40% accuracy on $\\mathcal{X}_{\\text{train}}$ (\\~2 minutes) and 20% accuracy on $\\mathcal{X}_{\\text{test}}$ (\\~5 minutes)."
      ]
    },
    {
      "cell_type": "code",
      "metadata": {
        "id": "0a5hdwd4BSSK"
      },
      "source": [
        "## hyperparameters\n",
        "lr= 1e-3\n",
        "dict_results = {}\n",
        "epochs = 20"
      ],
      "execution_count": null,
      "outputs": []
    },
    {
      "cell_type": "code",
      "metadata": {
        "id": "KJC1ZNlX5ocG",
        "colab": {
          "base_uri": "https://localhost:8080/"
        },
        "outputId": "98db5673-9308-427a-9fb4-da9773bf1a25"
      },
      "source": [
        "device = 'cuda' if torch.cuda.is_available() else 'cpu'\n",
        "\n",
        "## clear model \n",
        "try: \n",
        "  for layer in net.children():\n",
        "      if hasattr(layer, 'reset_parameters'):\n",
        "          layer.reset_parameters()\n",
        "  del net\n",
        "  gc.collect()\n",
        "except : \n",
        "  pass\n",
        "\n",
        "# Model\n",
        "print('==> Building model..')\n",
        "net = models.resnet18(pretrained=False)\n",
        "net.fc = nn.Linear(512, 10)\n",
        "net = net.to(device)\n",
        "\n",
        "criterion = nn.CrossEntropyLoss()\n",
        "optimizer = optim.SGD(net.parameters(), lr=lr , momentum=0.9)\n",
        "#scheduler = torch.optim.lr_scheduler.CosineAnnealingLR(optimizer, T_max=200)\n",
        "\n",
        "\n",
        "# Training\n",
        "def train(epoch):\n",
        "    print('\\nEpoch: %d' % epoch)\n",
        "    net.train()\n",
        "    train_loss = 0\n",
        "    correct = 0\n",
        "    total = 0\n",
        "    for batch_idx, (inputs, targets) in enumerate(trainloader):\n",
        "        inputs, targets = inputs.to(device), targets.to(device)\n",
        "        optimizer.zero_grad()\n",
        "        outputs = net(inputs)\n",
        "        loss = criterion(outputs, targets)\n",
        "        loss.backward()\n",
        "        optimizer.step()\n",
        "\n",
        "        train_loss += loss.item()\n",
        "        _, predicted = outputs.max(1)\n",
        "        total += targets.size(0)\n",
        "        correct += predicted.eq(targets).sum().item()\n",
        "    train_score = 100.*correct/total\n",
        "    print('Train ...')\n",
        "    print('Loss: %.3f | Acc: %.3f%%'% (train_loss/(batch_idx+1), 100.*correct/total))\n",
        "    return train_score\n",
        "\n",
        "\n",
        "def test(epoch):\n",
        "    net.eval()\n",
        "    test_loss = 0\n",
        "    correct = 0\n",
        "    total = 0\n",
        "    with torch.no_grad():\n",
        "        for batch_idx, (inputs, targets) in enumerate(testloader):\n",
        "            inputs, targets = inputs.to(device), targets.to(device)\n",
        "            outputs = net(inputs)\n",
        "            loss = criterion(outputs, targets)\n",
        "\n",
        "            test_loss += loss.item()\n",
        "            _, predicted = outputs.max(1)\n",
        "            total += targets.size(0)\n",
        "            correct += predicted.eq(targets).sum().item()\n",
        "        \n",
        "        test_score = 100.*correct/total\n",
        "        print('Test ...')\n",
        "        print('Loss: %.3f | Acc: %.3f%% '\n",
        "                         % (test_loss/(batch_idx+1),test_score ))\n",
        "        return test_score\n",
        "\n",
        "train_scores , test_scores =[],[]\n",
        "for epoch in range(epochs):\n",
        "    train_scores.append(train(epoch))\n",
        "    test_scores.append(test(epoch))\n",
        "    #scheduler.step()\n",
        "dict_results['raw']=(train_scores,test_scores)"
      ],
      "execution_count": null,
      "outputs": [
        {
          "output_type": "stream",
          "text": [
            "==> Building model..\n",
            "\n",
            "Epoch: 0\n",
            "Train ...\n",
            "Loss: 2.358 | Acc: 9.000%\n",
            "Test ...\n",
            "Loss: 2.324 | Acc: 10.000% \n",
            "\n",
            "Epoch: 1\n",
            "Train ...\n",
            "Loss: 2.264 | Acc: 16.000%\n",
            "Test ...\n",
            "Loss: 2.457 | Acc: 12.390% \n",
            "\n",
            "Epoch: 2\n",
            "Train ...\n",
            "Loss: 2.194 | Acc: 22.000%\n",
            "Test ...\n",
            "Loss: 2.831 | Acc: 15.030% \n",
            "\n",
            "Epoch: 3\n",
            "Train ...\n",
            "Loss: 2.082 | Acc: 23.000%\n",
            "Test ...\n",
            "Loss: 2.729 | Acc: 13.790% \n",
            "\n",
            "Epoch: 4\n",
            "Train ...\n",
            "Loss: 1.996 | Acc: 29.000%\n",
            "Test ...\n",
            "Loss: 2.446 | Acc: 18.140% \n",
            "\n",
            "Epoch: 5\n",
            "Train ...\n",
            "Loss: 1.896 | Acc: 35.000%\n",
            "Test ...\n",
            "Loss: 2.382 | Acc: 17.170% \n",
            "\n",
            "Epoch: 6\n",
            "Train ...\n",
            "Loss: 1.866 | Acc: 39.000%\n",
            "Test ...\n",
            "Loss: 2.279 | Acc: 18.620% \n",
            "\n",
            "Epoch: 7\n",
            "Train ...\n",
            "Loss: 1.767 | Acc: 44.000%\n",
            "Test ...\n",
            "Loss: 2.394 | Acc: 20.830% \n",
            "\n",
            "Epoch: 8\n",
            "Train ...\n",
            "Loss: 1.692 | Acc: 42.000%\n",
            "Test ...\n",
            "Loss: 2.486 | Acc: 19.890% \n",
            "\n",
            "Epoch: 9\n",
            "Train ...\n",
            "Loss: 1.604 | Acc: 44.000%\n",
            "Test ...\n",
            "Loss: 2.362 | Acc: 19.120% \n",
            "\n",
            "Epoch: 10\n",
            "Train ...\n",
            "Loss: 1.558 | Acc: 41.000%\n",
            "Test ...\n",
            "Loss: 2.394 | Acc: 21.510% \n",
            "\n",
            "Epoch: 11\n",
            "Train ...\n",
            "Loss: 1.407 | Acc: 57.000%\n",
            "Test ...\n",
            "Loss: 2.329 | Acc: 21.250% \n",
            "\n",
            "Epoch: 12\n",
            "Train ...\n",
            "Loss: 1.390 | Acc: 58.000%\n",
            "Test ...\n",
            "Loss: 2.478 | Acc: 21.340% \n",
            "\n",
            "Epoch: 13\n",
            "Train ...\n",
            "Loss: 1.278 | Acc: 59.000%\n",
            "Test ...\n",
            "Loss: 2.548 | Acc: 21.960% \n",
            "\n",
            "Epoch: 14\n",
            "Train ...\n",
            "Loss: 1.224 | Acc: 64.000%\n",
            "Test ...\n",
            "Loss: 2.484 | Acc: 21.560% \n",
            "\n",
            "Epoch: 15\n",
            "Train ...\n",
            "Loss: 1.176 | Acc: 72.000%\n",
            "Test ...\n",
            "Loss: 2.617 | Acc: 21.120% \n",
            "\n",
            "Epoch: 16\n",
            "Train ...\n",
            "Loss: 1.105 | Acc: 68.000%\n",
            "Test ...\n",
            "Loss: 2.518 | Acc: 23.560% \n",
            "\n",
            "Epoch: 17\n",
            "Train ...\n",
            "Loss: 0.993 | Acc: 74.000%\n",
            "Test ...\n",
            "Loss: 2.587 | Acc: 22.270% \n",
            "\n",
            "Epoch: 18\n",
            "Train ...\n",
            "Loss: 0.991 | Acc: 76.000%\n",
            "Test ...\n",
            "Loss: 2.626 | Acc: 21.510% \n",
            "\n",
            "Epoch: 19\n",
            "Train ...\n",
            "Loss: 0.890 | Acc: 79.000%\n",
            "Test ...\n",
            "Loss: 2.638 | Acc: 22.870% \n"
          ],
          "name": "stdout"
        }
      ]
    },
    {
      "cell_type": "markdown",
      "metadata": {
        "id": "ss-3ALAoLqQn"
      },
      "source": [
        "| Model | Number of  epochs  | Train accuracy | Test accuracy |\n",
        "|------|------|------|------|\n",
        "|   Resnet18 100 examples (scratch)  | 20 | 79% | 22.870% |\n",
        "|   Resnet18 all examples (scratch)  | _ | _ | 93.02% |"
      ]
    },
    {
      "cell_type": "markdown",
      "metadata": {
        "id": "DCF5daql5ocG"
      },
      "source": [
        "# Transfer learning"
      ]
    },
    {
      "cell_type": "markdown",
      "metadata": {
        "id": "dQEMn0kw5ocH"
      },
      "source": [
        "We propose to use pre-trained models on a classification and generative task, in order to improve the results of our setting."
      ]
    },
    {
      "cell_type": "markdown",
      "metadata": {
        "id": "d6Dn4aMx5ocH"
      },
      "source": [
        "## ImageNet features"
      ]
    },
    {
      "cell_type": "markdown",
      "metadata": {
        "id": "E3ve1Cdv5ocH"
      },
      "source": [
        "Now, we will use some pre-trained models on ImageNet and see how well they compare on CIFAR. A list is available on: https://pytorch.org/docs/stable/torchvision/models.html.\n",
        "\n",
        "__Question 4:__ Pick a model from the list above, adapt it for CIFAR and retrain its final layer (or a block of layers, depending on the resources to which you have access to). Report its accuracy."
      ]
    },
    {
      "cell_type": "code",
      "metadata": {
        "id": "yx9qOMA_N54I"
      },
      "source": [
        "epochs = 20\n",
        "batch_size = 10\n",
        "lr = 1e-3"
      ],
      "execution_count": null,
      "outputs": []
    },
    {
      "cell_type": "code",
      "metadata": {
        "id": "7JJYCTM85ocH",
        "colab": {
          "base_uri": "https://localhost:8080/"
        },
        "outputId": "318a5b41-e64b-45aa-b562-f33f41d9792e"
      },
      "source": [
        "\n",
        "try: \n",
        "  for layer in model.children():\n",
        "      if hasattr(layer, 'reset_parameters'):\n",
        "          layer.reset_parameters()\n",
        "  del model\n",
        "  gc.collect()\n",
        "except : \n",
        "  pass\n",
        "\n",
        "# fix seed to reproduce results \n",
        "torch.manual_seed(1)\n",
        "model = models.resnet18(pretrained=True)\n",
        "\n",
        "\n",
        "for k,param in enumerate(model.parameters()):  ## gradient to false\n",
        "    # here we control the layers that we want to freeze\n",
        "    '''\n",
        "    if len(param.shape)>1 : \n",
        "      if param.shape[0] == 512 and param.shape[1]==512  :\n",
        "        print(k)\n",
        "        break\n",
        "    '''\n",
        "    param.requires_grad = False\n",
        "\n",
        "model.fc = nn.Linear(512, 10)\n",
        "model = model.to(device)\n",
        "\n",
        "criterion = nn.CrossEntropyLoss()\n",
        "optimizer = optim.SGD(model.parameters(), lr=lr , momentum=0.9)\n",
        "\n",
        "# Training\n",
        "train_scores , test_scores =[],[]\n",
        "for epoch in range(epochs):\n",
        "    train_scores.append(train(epoch))\n",
        "    test_scores.append(test(epoch))\n",
        "\n",
        "dict_results['freezed']=(train_scores,test_scores)\n"
      ],
      "execution_count": null,
      "outputs": [
        {
          "output_type": "stream",
          "text": [
            "\n",
            "Epoch: 0\n",
            "Train ...\n",
            "Loss: 2.435 | Acc: 7.000%\n",
            "Test ...\n",
            "Loss: 2.511 | Acc: 10.400% \n",
            "\n",
            "Epoch: 1\n",
            "Train ...\n",
            "Loss: 2.231 | Acc: 21.000%\n",
            "Test ...\n",
            "Loss: 2.308 | Acc: 16.920% \n",
            "\n",
            "Epoch: 2\n",
            "Train ...\n",
            "Loss: 1.961 | Acc: 33.000%\n",
            "Test ...\n",
            "Loss: 2.092 | Acc: 26.610% \n",
            "\n",
            "Epoch: 3\n",
            "Train ...\n",
            "Loss: 1.735 | Acc: 52.000%\n",
            "Test ...\n",
            "Loss: 1.994 | Acc: 30.320% \n",
            "\n",
            "Epoch: 4\n",
            "Train ...\n",
            "Loss: 1.649 | Acc: 51.000%\n",
            "Test ...\n",
            "Loss: 1.845 | Acc: 37.870% \n",
            "\n",
            "Epoch: 5\n",
            "Train ...\n",
            "Loss: 1.495 | Acc: 62.000%\n",
            "Test ...\n",
            "Loss: 1.847 | Acc: 34.520% \n",
            "\n",
            "Epoch: 6\n",
            "Train ...\n",
            "Loss: 1.283 | Acc: 63.000%\n",
            "Test ...\n",
            "Loss: 1.760 | Acc: 38.310% \n",
            "\n",
            "Epoch: 7\n",
            "Train ...\n",
            "Loss: 1.202 | Acc: 75.000%\n",
            "Test ...\n",
            "Loss: 1.641 | Acc: 44.160% \n",
            "\n",
            "Epoch: 8\n",
            "Train ...\n",
            "Loss: 1.049 | Acc: 84.000%\n",
            "Test ...\n",
            "Loss: 1.620 | Acc: 44.930% \n",
            "\n",
            "Epoch: 9\n",
            "Train ...\n",
            "Loss: 0.976 | Acc: 79.000%\n",
            "Test ...\n",
            "Loss: 1.567 | Acc: 47.940% \n",
            "\n",
            "Epoch: 10\n",
            "Train ...\n",
            "Loss: 0.843 | Acc: 92.000%\n",
            "Test ...\n",
            "Loss: 1.503 | Acc: 50.430% \n",
            "\n",
            "Epoch: 11\n",
            "Train ...\n",
            "Loss: 0.865 | Acc: 89.000%\n",
            "Test ...\n",
            "Loss: 1.497 | Acc: 49.760% \n",
            "\n",
            "Epoch: 12\n",
            "Train ...\n",
            "Loss: 0.767 | Acc: 94.000%\n",
            "Test ...\n",
            "Loss: 1.477 | Acc: 50.170% \n",
            "\n",
            "Epoch: 13\n",
            "Train ...\n",
            "Loss: 0.696 | Acc: 96.000%\n",
            "Test ...\n",
            "Loss: 1.448 | Acc: 51.330% \n",
            "\n",
            "Epoch: 14\n",
            "Train ...\n",
            "Loss: 0.636 | Acc: 95.000%\n",
            "Test ...\n",
            "Loss: 1.416 | Acc: 52.170% \n",
            "\n",
            "Epoch: 15\n",
            "Train ...\n",
            "Loss: 0.679 | Acc: 98.000%\n",
            "Test ...\n",
            "Loss: 1.404 | Acc: 52.740% \n",
            "\n",
            "Epoch: 16\n",
            "Train ...\n",
            "Loss: 0.554 | Acc: 99.000%\n",
            "Test ...\n",
            "Loss: 1.380 | Acc: 53.120% \n",
            "\n",
            "Epoch: 17\n",
            "Train ...\n",
            "Loss: 0.599 | Acc: 95.000%\n",
            "Test ...\n",
            "Loss: 1.354 | Acc: 54.790% \n",
            "\n",
            "Epoch: 18\n",
            "Train ...\n",
            "Loss: 0.566 | Acc: 94.000%\n",
            "Test ...\n",
            "Loss: 1.369 | Acc: 53.260% \n",
            "\n",
            "Epoch: 19\n",
            "Train ...\n",
            "Loss: 0.504 | Acc: 98.000%\n",
            "Test ...\n",
            "Loss: 1.378 | Acc: 52.540% \n"
          ],
          "name": "stdout"
        }
      ]
    },
    {
      "cell_type": "markdown",
      "metadata": {
        "id": "YuGXAElGUWwC"
      },
      "source": [
        "The training was done for a total numbers of epochs of 20. The column \"Number of epochs\" correspond to the epoch where I've got the best results on test. \n",
        "Resnet 18 is composed of four residual blocks. We start by freezing all blocks and train only on the fully connected layer. Then we unfreeze progressively the residual blocks and finally we unfreeze all the model.\n",
        "\n",
        "| Model | Number of  epochs  | Train accuracy ( 20 epochs) | Test accuracy |\n",
        "|------|------|------|------|\n",
        "|   Resnet18 (freezed)  | 18 | 98% | 54.79% |\n",
        "|   Resnet18 (unfreeze block 4)  | 18 | 100% | 57.29% |\n",
        "|   Resnet18 (unfreeze blocks 4 and 3 )  | 19 | 100% | 56.77% |\n",
        "|   Resnet18 (unfreeze blocks 4 , 3 and 2)  | 18 | 100% | 55.7% |\n",
        "|   Resnet18 (unfreeze blocks 4 , 3 , 2 and 1)  | 19 | 100% | 54.19% |\n",
        "|   Resnet18 (unfreezed)  | 19 | 100% | 54.01% |\n",
        "\n",
        "The choice of resnet 18 architecture is due to the small number of labeled data. If we choose bigger architectures such as vgg or resnet 50, the model may probably overfit."
      ]
    },
    {
      "cell_type": "markdown",
      "metadata": {
        "id": "b_DKMdsQ5ocH"
      },
      "source": [
        "# Incorporating *a priori*\n",
        "Geometrical *a priori* are appealing for image classification tasks. For now, we only consider linear transformations $\\mathcal{T}$ of the inputs $x:\\mathbb{S}^2\\rightarrow\\mathbb{R}$ where $\\mathbb{S}$ is the support of an image, meaning that:\n",
        "\n",
        "$$\\forall u\\in\\mathbb{S}^2,\\mathcal{T}(\\lambda x+\\mu y)(u)=\\lambda \\mathcal{T}(x)(u)+\\mu \\mathcal{T}(y)(u)\\,.$$\n",
        "\n",
        "For instance if an image had an infinite support, a translation $\\mathcal{T}_a$ by $a$ would lead to:\n",
        "\n",
        "$$\\forall u, \\mathcal{T}_a(x)(u)=x(u-a)\\,.$$\n",
        "\n",
        "Otherwise, one has to handle several boundary effects.\n",
        "\n",
        "__Question 5:__ Explain the issues when dealing with translations, rotations, scaling effects, color changes on $32\\times32$ images. Propose several ideas to tackle them."
      ]
    },
    {
      "cell_type": "markdown",
      "metadata": {
        "id": "jnpgMFXt5ocI"
      },
      "source": [
        "Since CIFAR10 images have few pixels $32 \\times 32$, augmenting the data directly by incorporating invariance to translation or rotation or scale can lead to poor predictions results, since there is a risk we change completely the content of the image. This may lead to underfitting problem, i.e the model can't learn all the diversity seen in training set. A solution to this is to incrase data size.We can do this for instance by interpolating the pixels to get bigger images. "
      ]
    },
    {
      "cell_type": "markdown",
      "metadata": {
        "id": "FGp02vQl5ocI"
      },
      "source": [
        "## Data augmentations"
      ]
    },
    {
      "cell_type": "markdown",
      "metadata": {
        "id": "bvkeX8qn5ocI"
      },
      "source": [
        "__Question 6:__ Propose a set of geometric transformation beyond translation, and incorporate them in your training pipeline. Train the model of the __Question 3__ with them and report the accuracies."
      ]
    },
    {
      "cell_type": "code",
      "metadata": {
        "id": "rxLeXbKQdWae"
      },
      "source": [
        "import pickle\n",
        "dict_results = pickle.load(open('/content/drive/MyDrive/data_CS_MVA/ADL/dict_results_tp4.pkl','rb'))"
      ],
      "execution_count": null,
      "outputs": []
    },
    {
      "cell_type": "code",
      "metadata": {
        "collapsed": true,
        "id": "jRO0asCc5ocI",
        "colab": {
          "base_uri": "https://localhost:8080/"
        },
        "outputId": "9f46a2cf-9151-4629-e4a2-36af98a20430"
      },
      "source": [
        "transform = {'train':transforms.Compose([\n",
        "    transforms.Resize(256),\n",
        "    torchvision.transforms.ColorJitter(hue=.05, saturation=.05),\n",
        "    torchvision.transforms.RandomHorizontalFlip(),\n",
        "    torchvision.transforms.RandomRotation(20, resample=PIL.Image.BILINEAR) , \n",
        "    transforms.CenterCrop(224),\n",
        "    transforms.ToTensor(),\n",
        "    transforms.Normalize((0.4914, 0.4822, 0.4465), (0.2023, 0.1994, 0.2010))]),\n",
        "    'test': transforms.Compose([\n",
        "    transforms.Resize(256),\n",
        "    transforms.CenterCrop(224),\n",
        "    transforms.ToTensor(),\n",
        "    transforms.Normalize((0.4914, 0.4822, 0.4465), (0.2023, 0.1994, 0.2010))])}\n",
        "\n",
        "trainset = torchvision.datasets.CIFAR10(root='./data', train=True,\n",
        "                                        download=True, transform=transform['train'])\n",
        "trainloader = torch.utils.data.DataLoader(trainset, batch_size=batch_size,\n",
        "                                          sampler =SubsetRandomSampler([k for k in range(100)]),\n",
        "                                          num_workers=2)\n"
      ],
      "execution_count": null,
      "outputs": [
        {
          "output_type": "stream",
          "text": [
            "Files already downloaded and verified\n",
            "Files already downloaded and verified\n"
          ],
          "name": "stdout"
        }
      ]
    },
    {
      "cell_type": "code",
      "metadata": {
        "id": "rYfwSsgoBn7x"
      },
      "source": [
        "epochs = 30\n",
        "lr = 1e-3"
      ],
      "execution_count": null,
      "outputs": []
    },
    {
      "cell_type": "code",
      "metadata": {
        "colab": {
          "base_uri": "https://localhost:8080/"
        },
        "id": "BgWh_IWTBdh8",
        "outputId": "4830550b-b7c9-4aaf-9ab1-c3bebfec2cf5"
      },
      "source": [
        "\n",
        "## clear model \n",
        "try: \n",
        "  for layer in net.children():\n",
        "      if hasattr(layer, 'reset_parameters'):\n",
        "          layer.reset_parameters()\n",
        "  del net\n",
        "  gc.collect()\n",
        "except : \n",
        "  pass\n",
        "\n",
        "# Model\n",
        "print('==> Building model..')\n",
        "net = models.resnet18(pretrained=False)\n",
        "net.fc = nn.Linear(512, 10)\n",
        "net = net.to(device)\n",
        "\n",
        "criterion = nn.CrossEntropyLoss()\n",
        "optimizer = optim.SGD(net.parameters(), lr=lr , momentum=0.9)\n",
        "#scheduler = torch.optim.lr_scheduler.CosineAnnealingLR(optimizer, T_max=200)\n",
        "\n",
        "torch.manual_seed(1)\n",
        "# Training\n",
        "\n",
        "train_scores , test_scores = [] , []\n",
        "for epoch in range(epochs):\n",
        "    train_scores.append(train(epoch))\n",
        "    test_scores.append(test(epoch))\n"
      ],
      "execution_count": null,
      "outputs": [
        {
          "output_type": "stream",
          "text": [
            "==> Building model..\n",
            "\n",
            "Epoch: 0\n",
            "Train ...\n",
            "Loss: 2.280 | Acc: 15.000%\n",
            "Test ...\n",
            "Loss: 2.317 | Acc: 9.790% \n",
            "\n",
            "Epoch: 1\n",
            "Train ...\n",
            "Loss: 2.208 | Acc: 18.000%\n",
            "Test ...\n",
            "Loss: 2.356 | Acc: 13.240% \n",
            "\n",
            "Epoch: 2\n",
            "Train ...\n",
            "Loss: 2.167 | Acc: 27.000%\n",
            "Test ...\n",
            "Loss: 2.461 | Acc: 12.850% \n",
            "\n",
            "Epoch: 3\n",
            "Train ...\n",
            "Loss: 2.160 | Acc: 23.000%\n",
            "Test ...\n",
            "Loss: 2.570 | Acc: 14.610% \n",
            "\n",
            "Epoch: 4\n",
            "Train ...\n",
            "Loss: 2.053 | Acc: 27.000%\n",
            "Test ...\n",
            "Loss: 2.345 | Acc: 17.740% \n",
            "\n",
            "Epoch: 5\n",
            "Train ...\n",
            "Loss: 2.010 | Acc: 28.000%\n",
            "Test ...\n",
            "Loss: 2.379 | Acc: 18.940% \n",
            "\n",
            "Epoch: 6\n",
            "Train ...\n",
            "Loss: 1.943 | Acc: 33.000%\n",
            "Test ...\n",
            "Loss: 2.354 | Acc: 19.910% \n",
            "\n",
            "Epoch: 7\n",
            "Train ...\n",
            "Loss: 1.834 | Acc: 40.000%\n",
            "Test ...\n",
            "Loss: 2.416 | Acc: 17.200% \n",
            "\n",
            "Epoch: 8\n",
            "Train ...\n",
            "Loss: 1.780 | Acc: 43.000%\n",
            "Test ...\n",
            "Loss: 2.272 | Acc: 19.340% \n",
            "\n",
            "Epoch: 9\n",
            "Train ...\n",
            "Loss: 1.784 | Acc: 41.000%\n",
            "Test ...\n",
            "Loss: 2.290 | Acc: 20.120% \n",
            "\n",
            "Epoch: 10\n",
            "Train ...\n",
            "Loss: 1.844 | Acc: 37.000%\n",
            "Test ...\n",
            "Loss: 2.395 | Acc: 19.030% \n",
            "\n",
            "Epoch: 11\n",
            "Train ...\n",
            "Loss: 1.755 | Acc: 39.000%\n",
            "Test ...\n",
            "Loss: 2.369 | Acc: 20.430% \n",
            "\n",
            "Epoch: 12\n",
            "Train ...\n",
            "Loss: 1.665 | Acc: 41.000%\n",
            "Test ...\n",
            "Loss: 2.594 | Acc: 22.110% \n",
            "\n",
            "Epoch: 13\n",
            "Train ...\n",
            "Loss: 1.582 | Acc: 46.000%\n",
            "Test ...\n",
            "Loss: 2.469 | Acc: 21.330% \n",
            "\n",
            "Epoch: 14\n",
            "Train ...\n",
            "Loss: 1.523 | Acc: 49.000%\n",
            "Test ...\n",
            "Loss: 2.416 | Acc: 22.240% \n",
            "\n",
            "Epoch: 15\n",
            "Train ...\n",
            "Loss: 1.571 | Acc: 45.000%\n",
            "Test ...\n",
            "Loss: 2.792 | Acc: 22.060% \n",
            "\n",
            "Epoch: 16\n",
            "Train ...\n",
            "Loss: 1.478 | Acc: 56.000%\n",
            "Test ...\n",
            "Loss: 2.571 | Acc: 22.030% \n",
            "\n",
            "Epoch: 17\n",
            "Train ...\n",
            "Loss: 1.344 | Acc: 53.000%\n",
            "Test ...\n",
            "Loss: 2.531 | Acc: 23.570% \n",
            "\n",
            "Epoch: 18\n",
            "Train ...\n",
            "Loss: 1.392 | Acc: 57.000%\n",
            "Test ...\n",
            "Loss: 2.554 | Acc: 23.570% \n",
            "\n",
            "Epoch: 19\n",
            "Train ...\n",
            "Loss: 1.434 | Acc: 51.000%\n",
            "Test ...\n",
            "Loss: 2.717 | Acc: 21.570% \n",
            "\n",
            "Epoch: 20\n",
            "Train ...\n",
            "Loss: 1.177 | Acc: 66.000%\n",
            "Test ...\n",
            "Loss: 2.628 | Acc: 23.390% \n",
            "\n",
            "Epoch: 21\n",
            "Train ...\n",
            "Loss: 1.265 | Acc: 56.000%\n",
            "Test ...\n",
            "Loss: 2.780 | Acc: 22.040% \n",
            "\n",
            "Epoch: 22\n",
            "Train ...\n",
            "Loss: 1.177 | Acc: 65.000%\n",
            "Test ...\n",
            "Loss: 2.664 | Acc: 23.910% \n",
            "\n",
            "Epoch: 23\n",
            "Train ...\n",
            "Loss: 1.171 | Acc: 61.000%\n",
            "Test ...\n",
            "Loss: 2.709 | Acc: 24.490% \n",
            "\n",
            "Epoch: 24\n",
            "Train ...\n",
            "Loss: 1.191 | Acc: 63.000%\n",
            "Test ...\n",
            "Loss: 2.915 | Acc: 21.250% \n",
            "\n",
            "Epoch: 25\n",
            "Train ...\n",
            "Loss: 1.166 | Acc: 58.000%\n",
            "Test ...\n",
            "Loss: 2.968 | Acc: 22.840% \n",
            "\n",
            "Epoch: 26\n",
            "Train ...\n",
            "Loss: 1.069 | Acc: 69.000%\n",
            "Test ...\n",
            "Loss: 2.782 | Acc: 24.000% \n",
            "\n",
            "Epoch: 27\n",
            "Train ...\n",
            "Loss: 0.958 | Acc: 71.000%\n",
            "Test ...\n",
            "Loss: 2.749 | Acc: 22.110% \n",
            "\n",
            "Epoch: 28\n",
            "Train ...\n",
            "Loss: 1.014 | Acc: 70.000%\n",
            "Test ...\n",
            "Loss: 2.930 | Acc: 23.570% \n",
            "\n",
            "Epoch: 29\n",
            "Train ...\n",
            "Loss: 0.883 | Acc: 68.000%\n",
            "Test ...\n",
            "Loss: 3.135 | Acc: 23.540% \n"
          ],
          "name": "stdout"
        }
      ]
    },
    {
      "cell_type": "markdown",
      "metadata": {
        "id": "9kLGiTmCk6gC"
      },
      "source": [
        "| Model | Number of  epochs  | Train accuracy (30 epochs) | Test accuracy |\n",
        "|------|------|------|------|\n",
        "|Resnet18 + data augmentation  | 23 | 68% | 24.49% |"
      ]
    },
    {
      "cell_type": "code",
      "metadata": {
        "id": "xZCYQpnrg_Zb"
      },
      "source": [
        "dict_results['augmented']=(train_scores,test_scores)\n",
        "pickle.dump(dict_results,open('/content/drive/MyDrive/data_CS_MVA/ADL/dict_results_tp4.pkl','wb'))"
      ],
      "execution_count": null,
      "outputs": []
    },
    {
      "cell_type": "markdown",
      "metadata": {
        "id": "FzJCUMa05ocI"
      },
      "source": [
        "# Conclusions"
      ]
    },
    {
      "cell_type": "markdown",
      "metadata": {
        "id": "xPF8ZVtx5ocI"
      },
      "source": [
        "__Question 7:__ Write a short report explaining the pros and the cons of each methods that you implemented. 25% of the grade of this project will correspond to this question, thus, it should be done carefully. In particular, please add a plot that will summarize all your numerical results."
      ]
    },
    {
      "cell_type": "markdown",
      "metadata": {
        "id": "swn6wnmD5ocJ"
      },
      "source": [
        "In this work , I explored several ways to handle the data shortage. The first method , which is the \"naive\" one, consists of training from scratch the model on the labeled data. The advantage of this approach is that it is straightforward and don't necessit any extra knowledge. But the model overfits easily on the labeled data and this what explains the huge gap between train and test accuracy. \n",
        "\n",
        "A more intelligent approach is to use a pretrained model to extract relevant features and then finetune the model on one or multiple layers. Our best results on test correspond to the freezing of all layers except the last one. In fact , the first layers extract genral features such as edges , contours,etc... and the deeper the layers , the deeper the model becomes \"task specific\". So freezing first layers and finetuning the last ones makes sense. The disadvantage of this method is that we need pretrained models on thousands or millions of examples to construct relevant features for many other tasks.\n",
        "The last method that we tried is data augmentation. This improves slightly the results on the raw model. The advantage is that by simple data transformations, we manage to increase efficiently the number of labeled examples.\n",
        "\n",
        "\n",
        "In the next cell you can see a comparison between the different methods  that we tried. The curves labeled by \"freezed\" or \"unfreezed\" denote the pretrained resnet 18 model that we finetune on our subset of 100 samples.  "
      ]
    },
    {
      "cell_type": "code",
      "metadata": {
        "colab": {
          "base_uri": "https://localhost:8080/",
          "height": 427
        },
        "id": "khl2e_AdQ3Rq",
        "outputId": "45b58c63-11c1-47b6-a7bc-c0dd27bcf829"
      },
      "source": [
        "import matplotlib.pyplot as plt\n",
        "\n",
        "fig,ax = plt.subplots(1,3, figsize=(18,6))\n",
        "\n",
        "ax[0].plot(dict_results['raw'][0],label = 'Raw model')\n",
        "ax[0].plot(dict_results['freezed'][0],label = 'All freezed')\n",
        "ax[0].plot(dict_results['unfreezed'][0][:20],label = 'All unfreezed')\n",
        "ax[0].plot(dict_results['1 block unfr '][0],label = '1 block unfreezed')\n",
        "ax[0].plot(dict_results['augmented'][0][:20],label = 'data augmentation')\n",
        "ax[0].set_title(' Training accuracy')\n",
        "ax[0].legend()\n",
        "\n",
        "\n",
        "ax[1].plot(dict_results['raw'][1],label = 'Raw model')\n",
        "ax[1].plot(dict_results['freezed'][1],label = 'All freezed')\n",
        "ax[1].plot(dict_results['unfreezed'][1],label = 'All unfreezed')\n",
        "ax[1].plot(dict_results['1 block unfr '][1],label = '1 block unfreezed')\n",
        "ax[1].plot(dict_results['augmented'][1][:20],label = 'data augmentation')\n",
        "ax[1].set_title(' Validation accuracy')\n",
        "ax[1].legend()\n",
        "\n",
        "\n",
        "ax[2].plot(dict_results['freezed'][1],label = 'All freezed')\n",
        "ax[2].plot(dict_results['unfreezed'][1],label = 'All unfreezed')\n",
        "ax[2].plot(dict_results['1 block unfr '][1],label = '1 block unfreezed')\n",
        "ax[2].plot(dict_results['2 blocks unfr'][1],label = '2 blocks unfreezed')\n",
        "ax[2].plot(dict_results['3 blocks unfr'][1],label = '3 blocks unfreezed')\n",
        "ax[2].plot(dict_results['4 blocks unfr'][1],label = '4 blocks unfreezed')\n",
        "ax[2].set_title('Freezing different layers effect on validation accuracy')\n",
        "ax[2].legend()"
      ],
      "execution_count": null,
      "outputs": [
        {
          "output_type": "execute_result",
          "data": {
            "text/plain": [
              "<matplotlib.legend.Legend at 0x7fe84ad27898>"
            ]
          },
          "metadata": {
            "tags": []
          },
          "execution_count": 53
        },
        {
          "output_type": "display_data",
          "data": {
            "image/png": "[encoded data removed]",
            "text/plain": [
              "<Figure size 1296x432 with 3 Axes>"
            ]
          },
          "metadata": {
            "tags": [],
            "needs_background": "light"
          }
        }
      ]
    },
    {
      "cell_type": "markdown",
      "metadata": {
        "id": "_EVd_fLwjkus"
      },
      "source": [
        "We can see that freezing the pretraining model and finetuning on the last resnet block outperforms the rest of the models. Also data augmentation improves the model from scratch so it can be a good alternative if don't have unlabeled data to pretrain the model on. "
      ]
    },
    {
      "cell_type": "markdown",
      "metadata": {
        "id": "IFFAbZee5ocJ"
      },
      "source": [
        "# Weak supervision"
      ]
    },
    {
      "cell_type": "markdown",
      "metadata": {
        "id": "pTnpJ1hB5ocJ"
      },
      "source": [
        "__Bonus (Open) Question:__ Pick a weakly supervised method that will potentially use $\\mathcal{X}\\cup\\mathcal{X}_{\\text{train}}$ to train a representation (a subset of $\\mathcal{X}$ is also fine). Evaluate it and report the accuracies. You should be careful in the choice of your method, in order to avoid heavy computational effort."
      ]
    },
    {
      "cell_type": "markdown",
      "metadata": {
        "id": "M7LIyb-_oOae"
      },
      "source": [
        "**Proposed weak supervision method**: <br>\n",
        "We use a self-supervised Learning approach. We define a separate task using the unlabelled data; the goal is to learn useful features from the unlabelled images that will help in the classification task. <br>\n",
        "We use the task of predicting image rotations. We transform each unlabelled image into 4 rotated images (by an angle of 90 degrees), and then we train the model to predict the rotations. The main idea behind this approach, is that in order to correctly predict the angle of the rotation, the models needs to learn good feature representation of the image which will be useful for the next classifcation task. <br>\n",
        "After that, we finetune the previously trained model on the small labeled dataset for the classification task."
      ]
    },
    {
      "cell_type": "markdown",
      "metadata": {
        "id": "iCwVGkwLrYT9"
      },
      "source": [
        "**Rotation prediction Task**"
      ]
    },
    {
      "cell_type": "code",
      "metadata": {
        "id": "K9Vmq530qMST"
      },
      "source": [
        "img_size = 32\n",
        "batch_size = 64\n",
        "num_workers = 2\n",
        "lr = 0.001"
      ],
      "execution_count": null,
      "outputs": []
    },
    {
      "cell_type": "code",
      "metadata": {
        "id": "VuJXydXtqiXO"
      },
      "source": [
        "class RotationDataset(Dataset):\n",
        "    \n",
        "    def __init__(self, split, preTransform=None, postTransform = None):\n",
        "        #self.root_dir = root_dir\n",
        "        \n",
        "        #Output of pretransform should be PIL images\n",
        "        self.preTransform = preTransform\n",
        "        \n",
        "        self.postTransform = postTransform\n",
        "        self.split = split\n",
        "        self.dataset = torchvision.datasets.CIFAR10(root='./data', train=True,\n",
        "                                        download=True, transform=self.preTransform)    \n",
        "\n",
        "    def __len__(self):\n",
        "        return len(self.dataset)\n",
        "\n",
        "    def __getitem__(self, idx):\n",
        "        img0,clss = self.dataset[idx]\n",
        "        \n",
        "        rot_class = np.random.randint(4)\n",
        "        rot_angle = rot_class * 90\n",
        "\n",
        "        rot_img = img0.rotate(rot_angle)\n",
        "        if self.postTransform:\n",
        "            sample = self.postTransform(rot_img)\n",
        "        else:\n",
        "            sample = transforms.ToTensor(rot_img)\n",
        "        \n",
        "        return sample, rot_class"
      ],
      "execution_count": null,
      "outputs": []
    },
    {
      "cell_type": "markdown",
      "metadata": {
        "id": "UrQs_UwF1yqD"
      },
      "source": [
        "- Below is a visualization of a batch of training data with rotated images"
      ]
    },
    {
      "cell_type": "code",
      "metadata": {
        "colab": {
          "base_uri": "https://localhost:8080/",
          "height": 288
        },
        "id": "FOIupMUz1ImC",
        "outputId": "b3bf5b7d-dfa2-4e08-d801-d9b16d1f1109"
      },
      "source": [
        "# Get a batch of training data\n",
        "inputs, classes = next(iter(dataloaders['train']))\n",
        "out = torchvision.utils.make_grid(inputs)\n",
        "\n",
        "\n",
        "out = out.numpy().transpose((1, 2, 0))\n",
        "mean = np.array([0.485, 0.456, 0.406])\n",
        "std = np.array([0.229, 0.224, 0.225])\n",
        "out = std * out + mean\n",
        "out = np.clip(out, 0, 1)\n",
        "plt.imshow(out)"
      ],
      "execution_count": null,
      "outputs": [
        {
          "output_type": "execute_result",
          "data": {
            "text/plain": [
              "<matplotlib.image.AxesImage at 0x7f272a3d6250>"
            ]
          },
          "metadata": {
            "tags": []
          },
          "execution_count": 32
        },
        {
          "output_type": "display_data",
          "data": {
            "image/png": "[encoded data removed]",
            "text/plain": [
              "<Figure size 432x288 with 1 Axes>"
            ]
          },
          "metadata": {
            "tags": [],
            "needs_background": "light"
          }
        }
      ]
    },
    {
      "cell_type": "code",
      "metadata": {
        "colab": {
          "base_uri": "https://localhost:8080/"
        },
        "id": "ATu1K4tvqnp0",
        "outputId": "b63072c2-6dee-453c-efe7-fc1867ccfea9"
      },
      "source": [
        "#Define dataloaders\n",
        "\n",
        "data_pre_transforms = {\n",
        "    'train': transforms.Compose([\n",
        "        transforms.RandomHorizontalFlip(),\n",
        "    ]),\n",
        "    'val': transforms.Compose([\n",
        "        transforms.Resize(img_size),\n",
        "    ]),\n",
        "}\n",
        "\n",
        "data_post_transforms = {\n",
        "    'train': transforms.Compose([\n",
        "        transforms.ToTensor(),\n",
        "        transforms.Normalize((0.485, 0.456, 0.406), (0.229, 0.224, 0.225))\n",
        "    ]),\n",
        "    'val': transforms.Compose([\n",
        "        transforms.ToTensor(),\n",
        "        transforms.Normalize((0.485, 0.456, 0.406), (0.229, 0.224, 0.225))\n",
        "    ]),\n",
        "}\n",
        "\n",
        "image_datasets = {x: RotationDataset(x,  data_pre_transforms[x], data_post_transforms[x]) for x in ['train', 'val']}\n",
        "\n",
        "\n",
        "dataloaders = {x: torch.utils.data.DataLoader(image_datasets[x], batch_size= batch_size,\n",
        "                                              shuffle=True, num_workers=num_workers)\n",
        "                  for x in ['train', 'val']}\n",
        "\n",
        "dataset_sizes = {x: len(image_datasets[x]) for x in ['train', 'val']}\n",
        "\n",
        "if torch.cuda.is_available() and not is_cuda:\n",
        "    print(\"WARNING: You have a CUDA device, so you should probably run with --cuda\")\n",
        "\n",
        "device = torch.device(\"cuda:0\" if is_cuda else \"cpu\")"
      ],
      "execution_count": null,
      "outputs": [
        {
          "output_type": "stream",
          "text": [
            "Files already downloaded and verified\n",
            "Files already downloaded and verified\n"
          ],
          "name": "stdout"
        }
      ]
    },
    {
      "cell_type": "code",
      "metadata": {
        "colab": {
          "base_uri": "https://localhost:8080/"
        },
        "id": "4fanu83znxbz",
        "outputId": "1a2a8d02-b2f9-4635-d760-ea2be4308006"
      },
      "source": [
        "# Define Model\n",
        "print('==> Building model..')\n",
        "net = models.resnet34(pretrained=True)\n",
        "net.fc = nn.Linear(512, 4)\n",
        "net = net.to(device)\n",
        "\n",
        "for param in net.parameters():\n",
        "    param.requires_grad = True\n",
        "\n",
        "criterion = nn.CrossEntropyLoss()\n",
        "optimizer = optim.SGD(net.parameters(), lr=0.001, momentum=0.9, nesterov=True, weight_decay=0.005)\n",
        "# Decay LR by a factor of 0.1 every 7 epochs\n",
        "scheduler = lr_scheduler.StepLR(optimizer, step_size=7, gamma=0.8)\n",
        "\n",
        "torch.manual_seed(22)\n",
        "\n",
        "trainloader = dataloaders[\"train\"]\n",
        "testloader = dataloaders[\"val\"]\n",
        "\n",
        "# Training\n",
        "train_scores , test_scores = [] , []\n",
        "for epoch in range(25):\n",
        "    train_scores.append(train(epoch))\n",
        "    test_scores.append(test(epoch))\n",
        "    scheduler.step()"
      ],
      "execution_count": null,
      "outputs": [
        {
          "output_type": "stream",
          "text": [
            "==> Building model..\n",
            "\n",
            "Epoch: 0\n",
            "Train ...\n",
            "Loss: 0.910 | Acc: 60.624%\n",
            "Test ...\n",
            "Loss: 0.700 | Acc: 71.538% \n",
            "\n",
            "Epoch: 1\n",
            "Train ...\n",
            "Loss: 0.680 | Acc: 72.934%\n",
            "Test ...\n",
            "Loss: 0.601 | Acc: 76.254% \n",
            "\n",
            "Epoch: 2\n",
            "Train ...\n",
            "Loss: 0.602 | Acc: 76.448%\n",
            "Test ...\n",
            "Loss: 0.531 | Acc: 79.422% \n",
            "\n",
            "Epoch: 3\n",
            "Train ...\n",
            "Loss: 0.551 | Acc: 78.750%\n",
            "Test ...\n",
            "Loss: 0.497 | Acc: 80.704% \n",
            "\n",
            "Epoch: 4\n",
            "Train ...\n",
            "Loss: 0.516 | Acc: 80.134%\n",
            "Test ...\n",
            "Loss: 0.460 | Acc: 82.506% \n",
            "\n",
            "Epoch: 5\n",
            "Train ...\n",
            "Loss: 0.485 | Acc: 81.352%\n",
            "Test ...\n",
            "Loss: 0.438 | Acc: 83.190% \n",
            "\n",
            "Epoch: 6\n",
            "Train ...\n",
            "Loss: 0.464 | Acc: 82.408%\n",
            "Test ...\n",
            "Loss: 0.415 | Acc: 84.370% \n",
            "\n",
            "Epoch: 7\n",
            "Train ...\n",
            "Loss: 0.438 | Acc: 83.404%\n",
            "Test ...\n",
            "Loss: 0.392 | Acc: 85.144% \n",
            "\n",
            "Epoch: 8\n",
            "Train ...\n",
            "Loss: 0.417 | Acc: 84.154%\n",
            "Test ...\n",
            "Loss: 0.383 | Acc: 85.552% \n",
            "\n",
            "Epoch: 9\n",
            "Train ...\n",
            "Loss: 0.407 | Acc: 84.554%\n",
            "Test ...\n",
            "Loss: 0.366 | Acc: 86.240% \n",
            "\n",
            "Epoch: 10\n",
            "Train ...\n",
            "Loss: 0.392 | Acc: 85.190%\n",
            "Test ...\n",
            "Loss: 0.353 | Acc: 86.806% \n",
            "\n",
            "Epoch: 11\n",
            "Train ...\n",
            "Loss: 0.382 | Acc: 85.720%\n",
            "Test ...\n",
            "Loss: 0.350 | Acc: 86.890% \n",
            "\n",
            "Epoch: 12\n",
            "Train ...\n",
            "Loss: 0.374 | Acc: 85.956%\n",
            "Test ...\n",
            "Loss: 0.336 | Acc: 87.420% \n",
            "\n",
            "Epoch: 13\n",
            "Train ...\n",
            "Loss: 0.363 | Acc: 86.458%\n",
            "Test ...\n",
            "Loss: 0.321 | Acc: 87.986% \n",
            "\n",
            "Epoch: 14\n",
            "Train ...\n",
            "Loss: 0.347 | Acc: 87.078%\n",
            "Test ...\n",
            "Loss: 0.300 | Acc: 89.106% \n",
            "\n",
            "Epoch: 15\n",
            "Train ...\n",
            "Loss: 0.338 | Acc: 87.428%\n",
            "Test ...\n",
            "Loss: 0.298 | Acc: 89.154% \n",
            "\n",
            "Epoch: 16\n",
            "Train ...\n",
            "Loss: 0.330 | Acc: 87.982%\n",
            "Test ...\n",
            "Loss: 0.288 | Acc: 89.522% \n",
            "\n",
            "Epoch: 17\n",
            "Train ...\n",
            "Loss: 0.320 | Acc: 88.208%\n",
            "Test ...\n",
            "Loss: 0.282 | Acc: 89.692% \n",
            "\n",
            "Epoch: 18\n",
            "Train ...\n",
            "Loss: 0.314 | Acc: 88.462%\n",
            "Test ...\n",
            "Loss: 0.280 | Acc: 89.874% \n",
            "\n",
            "Epoch: 19\n",
            "Train ...\n",
            "Loss: 0.314 | Acc: 88.332%\n",
            "Test ...\n",
            "Loss: 0.275 | Acc: 90.004% \n",
            "\n",
            "Epoch: 20\n",
            "Train ...\n",
            "Loss: 0.306 | Acc: 88.508%\n",
            "Test ...\n",
            "Loss: 0.277 | Acc: 89.822% \n",
            "\n",
            "Epoch: 21\n",
            "Train ...\n",
            "Loss: 0.290 | Acc: 89.430%\n",
            "Test ...\n",
            "Loss: 0.253 | Acc: 90.960% \n",
            "\n",
            "Epoch: 22\n",
            "Train ...\n",
            "Loss: 0.282 | Acc: 89.704%\n",
            "Test ...\n",
            "Loss: 0.253 | Acc: 90.916% \n",
            "\n",
            "Epoch: 23\n",
            "Train ...\n",
            "Loss: 0.271 | Acc: 90.090%\n",
            "Test ...\n",
            "Loss: 0.253 | Acc: 90.844% \n",
            "\n",
            "Epoch: 24\n",
            "Train ...\n",
            "Loss: 0.271 | Acc: 90.046%\n",
            "Test ...\n",
            "Loss: 0.241 | Acc: 91.192% \n"
          ],
          "name": "stdout"
        }
      ]
    },
    {
      "cell_type": "markdown",
      "metadata": {
        "id": "drMiLbEVw_f2"
      },
      "source": [
        "| Model | Number of  epochs  | Train accuracy (30 epochs) | Test accuracy |\n",
        "|------|------|------|------|\n",
        "|Resnet34 trained on proxy task (rotation prediction)  | 24 | 90.046% | 91.192% |"
      ]
    },
    {
      "cell_type": "markdown",
      "metadata": {
        "id": "BC3oigemrk1R"
      },
      "source": [
        "**Finetune on the classification Task**"
      ]
    },
    {
      "cell_type": "code",
      "metadata": {
        "colab": {
          "base_uri": "https://localhost:8080/"
        },
        "id": "Pcs02TAxrqlS",
        "outputId": "4d257cf6-4f88-4eab-ecd9-b266daea03a3"
      },
      "source": [
        "transform = transforms.Compose([\n",
        "    transforms.ToTensor(),\n",
        "    transforms.Normalize((0.4914, 0.4822, 0.4465), (0.2023, 0.1994, 0.2010))])\n",
        "\n",
        "trainset = torchvision.datasets.CIFAR10(root='./data', train=True,\n",
        "                                        download=True, transform=transform)\n",
        "#loader to load the 100 trained labeled samples\n",
        "trainloader = torch.utils.data.DataLoader(trainset, batch_size=32,\n",
        "                                          sampler =SubsetRandomSampler([k for k in range(100)]),\n",
        "                                          num_workers=2)\n",
        "\n",
        "\n",
        "testset = torchvision.datasets.CIFAR10(root='./data', train=False,\n",
        "                                       download=True, transform=transform)\n",
        "testloader = torch.utils.data.DataLoader(testset, batch_size=32,\n",
        "                                         shuffle=False, num_workers=2)"
      ],
      "execution_count": null,
      "outputs": [
        {
          "output_type": "stream",
          "text": [
            "Files already downloaded and verified\n",
            "Files already downloaded and verified\n"
          ],
          "name": "stdout"
        }
      ]
    },
    {
      "cell_type": "code",
      "metadata": {
        "id": "6NXtH0lXyCu7"
      },
      "source": [
        "#Change the fully connected layer, we have 10 classes now instead of 4\n",
        "net.fc = nn.Linear(512, 10)"
      ],
      "execution_count": null,
      "outputs": []
    },
    {
      "cell_type": "code",
      "metadata": {
        "id": "cqG1gfKDyUUM"
      },
      "source": [
        "net = net.to(device)"
      ],
      "execution_count": null,
      "outputs": []
    },
    {
      "cell_type": "code",
      "metadata": {
        "id": "HDdw1KGswPDM"
      },
      "source": [
        "#Unfreezing only the last conv layer\n",
        "for param in net.parameters():\n",
        "    param.requires_grad = False\n",
        "for param in net.layer4.parameters():\n",
        "    param.requires_grad = True\n",
        "for param in net.fc.parameters():\n",
        "    param.requires_grad = True"
      ],
      "execution_count": null,
      "outputs": []
    },
    {
      "cell_type": "code",
      "metadata": {
        "id": "CjkTWo8uwmyM"
      },
      "source": [
        "criterion = nn.CrossEntropyLoss()\n",
        "params_tofit = filter(lambda p: p.requires_grad, net.parameters())\n",
        "optimizer = optim.SGD(params_tofit, lr=0.001, momentum=0.9, nesterov=True, weight_decay=0.005)\n",
        "scheduler = lr_scheduler.StepLR(optimizer, step_size=7, gamma=0.1)"
      ],
      "execution_count": null,
      "outputs": []
    },
    {
      "cell_type": "code",
      "metadata": {
        "colab": {
          "base_uri": "https://localhost:8080/"
        },
        "id": "yCJS_oDHxX1a",
        "outputId": "01717593-8d25-4734-a717-5af32cf34b7a"
      },
      "source": [
        "#Training\n",
        "train_scores , test_scores =[],[]\n",
        "for epoch in range(25):\n",
        "    train_scores.append(train(epoch))\n",
        "    test_scores.append(test(epoch))\n",
        "    scheduler.step()"
      ],
      "execution_count": null,
      "outputs": [
        {
          "output_type": "stream",
          "text": [
            "\n",
            "Epoch: 0\n",
            "Train ...\n",
            "Loss: 2.380 | Acc: 11.000%\n",
            "Test ...\n",
            "Loss: 2.326 | Acc: 10.800% \n",
            "\n",
            "Epoch: 1\n",
            "Train ...\n",
            "Loss: 2.199 | Acc: 18.000%\n",
            "Test ...\n",
            "Loss: 2.260 | Acc: 14.020% \n",
            "\n",
            "Epoch: 2\n",
            "Train ...\n",
            "Loss: 2.057 | Acc: 25.000%\n",
            "Test ...\n",
            "Loss: 2.203 | Acc: 18.560% \n",
            "\n",
            "Epoch: 3\n",
            "Train ...\n",
            "Loss: 1.967 | Acc: 42.000%\n",
            "Test ...\n",
            "Loss: 2.171 | Acc: 21.730% \n",
            "\n",
            "Epoch: 4\n",
            "Train ...\n",
            "Loss: 1.741 | Acc: 45.000%\n",
            "Test ...\n",
            "Loss: 2.149 | Acc: 23.660% \n",
            "\n",
            "Epoch: 5\n",
            "Train ...\n",
            "Loss: 1.575 | Acc: 53.000%\n",
            "Test ...\n",
            "Loss: 2.096 | Acc: 26.570% \n",
            "\n",
            "Epoch: 6\n",
            "Train ...\n",
            "Loss: 1.549 | Acc: 64.000%\n",
            "Test ...\n",
            "Loss: 2.065 | Acc: 27.950% \n",
            "\n",
            "Epoch: 7\n",
            "Train ...\n",
            "Loss: 1.333 | Acc: 74.000%\n",
            "Test ...\n",
            "Loss: 2.074 | Acc: 28.280% \n",
            "\n",
            "Epoch: 8\n",
            "Train ...\n",
            "Loss: 1.462 | Acc: 73.000%\n",
            "Test ...\n",
            "Loss: 2.083 | Acc: 28.000% \n",
            "\n",
            "Epoch: 9\n",
            "Train ...\n",
            "Loss: 1.322 | Acc: 76.000%\n",
            "Test ...\n",
            "Loss: 2.067 | Acc: 28.570% \n",
            "\n",
            "Epoch: 10\n",
            "Train ...\n",
            "Loss: 1.414 | Acc: 73.000%\n",
            "Test ...\n",
            "Loss: 2.077 | Acc: 28.560% \n",
            "\n",
            "Epoch: 11\n",
            "Train ...\n",
            "Loss: 1.271 | Acc: 75.000%\n",
            "Test ...\n",
            "Loss: 2.072 | Acc: 28.870% \n",
            "\n",
            "Epoch: 12\n",
            "Train ...\n",
            "Loss: 1.492 | Acc: 77.000%\n",
            "Test ...\n",
            "Loss: 2.075 | Acc: 28.650% \n",
            "\n",
            "Epoch: 13\n",
            "Train ...\n",
            "Loss: 1.226 | Acc: 74.000%\n",
            "Test ...\n",
            "Loss: 2.056 | Acc: 28.710% \n",
            "\n",
            "Epoch: 14\n",
            "Train ...\n",
            "Loss: 1.248 | Acc: 77.000%\n",
            "Test ...\n",
            "Loss: 2.046 | Acc: 29.320% \n",
            "\n",
            "Epoch: 15\n",
            "Train ...\n",
            "Loss: 1.111 | Acc: 76.000%\n",
            "Test ...\n",
            "Loss: 2.054 | Acc: 29.500% \n",
            "\n",
            "Epoch: 16\n",
            "Train ...\n",
            "Loss: 1.457 | Acc: 78.000%\n",
            "Test ...\n",
            "Loss: 2.079 | Acc: 28.760% \n",
            "\n",
            "Epoch: 17\n",
            "Train ...\n",
            "Loss: 1.323 | Acc: 73.000%\n",
            "Test ...\n",
            "Loss: 2.068 | Acc: 29.160% \n",
            "\n",
            "Epoch: 18\n",
            "Train ...\n",
            "Loss: 1.189 | Acc: 75.000%\n",
            "Test ...\n",
            "Loss: 2.052 | Acc: 29.110% \n",
            "\n",
            "Epoch: 19\n",
            "Train ...\n",
            "Loss: 1.275 | Acc: 77.000%\n",
            "Test ...\n",
            "Loss: 2.048 | Acc: 29.370% \n",
            "\n",
            "Epoch: 20\n",
            "Train ...\n",
            "Loss: 1.101 | Acc: 77.000%\n",
            "Test ...\n",
            "Loss: 2.055 | Acc: 28.810% \n",
            "\n",
            "Epoch: 21\n",
            "Train ...\n",
            "Loss: 1.262 | Acc: 80.000%\n",
            "Test ...\n",
            "Loss: 2.054 | Acc: 29.140% \n",
            "\n",
            "Epoch: 22\n",
            "Train ...\n",
            "Loss: 1.193 | Acc: 74.000%\n",
            "Test ...\n",
            "Loss: 2.073 | Acc: 29.030% \n",
            "\n",
            "Epoch: 23\n",
            "Train ...\n",
            "Loss: 1.315 | Acc: 74.000%\n",
            "Test ...\n",
            "Loss: 2.071 | Acc: 28.680% \n",
            "\n",
            "Epoch: 24\n",
            "Train ...\n",
            "Loss: 1.474 | Acc: 71.000%\n",
            "Test ...\n",
            "Loss: 2.063 | Acc: 29.110% \n"
          ],
          "name": "stdout"
        }
      ]
    },
    {
      "cell_type": "markdown",
      "metadata": {
        "id": "vzgsY2ADzMQR"
      },
      "source": [
        "| Model | Number of  epochs  | Train accuracy (30 epochs) | Test accuracy |\n",
        "|------|------|------|------|\n",
        "|Resnet34 finetuned  | 24 | 71% | 29.11% |"
      ]
    },
    {
      "cell_type": "markdown",
      "metadata": {
        "id": "gL6Gis3izgmv"
      },
      "source": [
        "**Remarks**:\n",
        "- Using a self-supervised approach yields better results (29.11% test acc) compared to training from scratch (22.86% test accuracy).\n",
        "- However transfer learning is still way better (around 54% test accuracy). In fact, the features learned from pretraining on ImageNet seem to be better than those learned from the chosen proxy task (predciting image rotations)"
      ]
    }
  ]
}